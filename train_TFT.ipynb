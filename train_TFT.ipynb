{
 "cells": [
  {
   "attachments": {},
   "cell_type": "markdown",
   "metadata": {},
   "source": [
    "# Train Temporal Fusion Transformer predictor using PyTorch-Forecasting"
   ]
  },
  {
   "cell_type": "code",
   "execution_count": 1,
   "metadata": {},
   "outputs": [],
   "source": [
    "# top-level requirements: pytorch-forecasting, ipykernel, jupyter, tensorboard, plotly\n",
    "# install numba for improved speed"
   ]
  },
  {
   "attachments": {},
   "cell_type": "markdown",
   "metadata": {},
   "source": [
    "Following along with training example provided in docs - https://github.com/jdb78/pytorch-forecasting & https://pytorch-forecasting.readthedocs.io/en/stable/tutorials/stallion.html"
   ]
  },
  {
   "cell_type": "code",
   "execution_count": 2,
   "metadata": {},
   "outputs": [],
   "source": [
    "import os\n",
    "import numpy as np\n",
    "import pandas as pd"
   ]
  },
  {
   "cell_type": "code",
   "execution_count": 3,
   "metadata": {},
   "outputs": [],
   "source": [
    "# imports for training\n",
    "import torch\n",
    "import pytorch_lightning as pl\n",
    "from pytorch_lightning.loggers import TensorBoardLogger\n",
    "from pytorch_lightning.callbacks import EarlyStopping, LearningRateMonitor\n",
    "# import dataset, network to train and metric to optimize\n",
    "from pytorch_forecasting import TimeSeriesDataSet, TemporalFusionTransformer, QuantileLoss"
   ]
  },
  {
   "attachments": {},
   "cell_type": "markdown",
   "metadata": {},
   "source": [
    "## Set up data"
   ]
  },
  {
   "cell_type": "code",
   "execution_count": 4,
   "metadata": {},
   "outputs": [],
   "source": [
    "# load training dataset from CSV\n",
    "csv_fname = 'UCam_Building_5'\n",
    "dataset_dir = os.path.join('data','example') # dataset directory\n",
    "train_data = pd.read_csv(os.path.join(dataset_dir,'test',f'{csv_fname}.csv'))\n",
    "val_data = pd.read_csv(os.path.join(dataset_dir,'validate',f'{csv_fname}.csv'))"
   ]
  },
  {
   "cell_type": "code",
   "execution_count": 5,
   "metadata": {},
   "outputs": [],
   "source": [
    "def reformat_df(df):\n",
    "    df = df.rename_axis('time_idx').reset_index() # create column of indices to pass as time_idx to TimeSeriesDataSet - we have no missing values\n",
    "    df['ts_id'] = f'b{5}' # create column with ID of timeseries (use f'b{UCam building ID}')\n",
    "    for col in ['Month','Hour','Day Type','Daylight Savings Status']:\n",
    "        df[col] = df[col].astype(str) # convert to strs to use as categoric covariates\n",
    "    return df"
   ]
  },
  {
   "cell_type": "code",
   "execution_count": 6,
   "metadata": {},
   "outputs": [],
   "source": [
    "train_data, val_data = [reformat_df(df) for df in [train_data, val_data]]"
   ]
  },
  {
   "cell_type": "code",
   "execution_count": 7,
   "metadata": {},
   "outputs": [
    {
     "data": {
      "text/html": [
       "<div>\n",
       "<style scoped>\n",
       "    .dataframe tbody tr th:only-of-type {\n",
       "        vertical-align: middle;\n",
       "    }\n",
       "\n",
       "    .dataframe tbody tr th {\n",
       "        vertical-align: top;\n",
       "    }\n",
       "\n",
       "    .dataframe thead th {\n",
       "        text-align: right;\n",
       "    }\n",
       "</style>\n",
       "<table border=\"1\" class=\"dataframe\">\n",
       "  <thead>\n",
       "    <tr style=\"text-align: right;\">\n",
       "      <th></th>\n",
       "      <th>time_idx</th>\n",
       "      <th>Month</th>\n",
       "      <th>Hour</th>\n",
       "      <th>Day Type</th>\n",
       "      <th>Daylight Savings Status</th>\n",
       "      <th>Indoor Temperature [C]</th>\n",
       "      <th>Average Unmet Cooling Setpoint Difference [C]</th>\n",
       "      <th>Indoor Relative Humidity [%]</th>\n",
       "      <th>Equipment Electric Power [kWh]</th>\n",
       "      <th>DHW Heating [kWh]</th>\n",
       "      <th>Cooling Load [kWh]</th>\n",
       "      <th>Heating Load [kWh]</th>\n",
       "      <th>Solar Generation [W/kW]</th>\n",
       "      <th>ts_id</th>\n",
       "    </tr>\n",
       "  </thead>\n",
       "  <tbody>\n",
       "    <tr>\n",
       "      <th>0</th>\n",
       "      <td>0</td>\n",
       "      <td>12</td>\n",
       "      <td>24</td>\n",
       "      <td>1</td>\n",
       "      <td>0</td>\n",
       "      <td>NaN</td>\n",
       "      <td>NaN</td>\n",
       "      <td>NaN</td>\n",
       "      <td>70.0</td>\n",
       "      <td>0</td>\n",
       "      <td>0</td>\n",
       "      <td>0</td>\n",
       "      <td>0.0</td>\n",
       "      <td>b5</td>\n",
       "    </tr>\n",
       "    <tr>\n",
       "      <th>1</th>\n",
       "      <td>1</td>\n",
       "      <td>1</td>\n",
       "      <td>1</td>\n",
       "      <td>2</td>\n",
       "      <td>0</td>\n",
       "      <td>NaN</td>\n",
       "      <td>NaN</td>\n",
       "      <td>NaN</td>\n",
       "      <td>69.3</td>\n",
       "      <td>0</td>\n",
       "      <td>0</td>\n",
       "      <td>0</td>\n",
       "      <td>0.0</td>\n",
       "      <td>b5</td>\n",
       "    </tr>\n",
       "    <tr>\n",
       "      <th>2</th>\n",
       "      <td>2</td>\n",
       "      <td>1</td>\n",
       "      <td>2</td>\n",
       "      <td>2</td>\n",
       "      <td>0</td>\n",
       "      <td>NaN</td>\n",
       "      <td>NaN</td>\n",
       "      <td>NaN</td>\n",
       "      <td>69.3</td>\n",
       "      <td>0</td>\n",
       "      <td>0</td>\n",
       "      <td>0</td>\n",
       "      <td>0.0</td>\n",
       "      <td>b5</td>\n",
       "    </tr>\n",
       "    <tr>\n",
       "      <th>3</th>\n",
       "      <td>3</td>\n",
       "      <td>1</td>\n",
       "      <td>3</td>\n",
       "      <td>2</td>\n",
       "      <td>0</td>\n",
       "      <td>NaN</td>\n",
       "      <td>NaN</td>\n",
       "      <td>NaN</td>\n",
       "      <td>69.8</td>\n",
       "      <td>0</td>\n",
       "      <td>0</td>\n",
       "      <td>0</td>\n",
       "      <td>0.0</td>\n",
       "      <td>b5</td>\n",
       "    </tr>\n",
       "    <tr>\n",
       "      <th>4</th>\n",
       "      <td>4</td>\n",
       "      <td>1</td>\n",
       "      <td>4</td>\n",
       "      <td>2</td>\n",
       "      <td>0</td>\n",
       "      <td>NaN</td>\n",
       "      <td>NaN</td>\n",
       "      <td>NaN</td>\n",
       "      <td>69.4</td>\n",
       "      <td>0</td>\n",
       "      <td>0</td>\n",
       "      <td>0</td>\n",
       "      <td>0.0</td>\n",
       "      <td>b5</td>\n",
       "    </tr>\n",
       "    <tr>\n",
       "      <th>...</th>\n",
       "      <td>...</td>\n",
       "      <td>...</td>\n",
       "      <td>...</td>\n",
       "      <td>...</td>\n",
       "      <td>...</td>\n",
       "      <td>...</td>\n",
       "      <td>...</td>\n",
       "      <td>...</td>\n",
       "      <td>...</td>\n",
       "      <td>...</td>\n",
       "      <td>...</td>\n",
       "      <td>...</td>\n",
       "      <td>...</td>\n",
       "      <td>...</td>\n",
       "    </tr>\n",
       "    <tr>\n",
       "      <th>17515</th>\n",
       "      <td>17515</td>\n",
       "      <td>12</td>\n",
       "      <td>19</td>\n",
       "      <td>3</td>\n",
       "      <td>0</td>\n",
       "      <td>NaN</td>\n",
       "      <td>NaN</td>\n",
       "      <td>NaN</td>\n",
       "      <td>65.0</td>\n",
       "      <td>0</td>\n",
       "      <td>0</td>\n",
       "      <td>0</td>\n",
       "      <td>0.0</td>\n",
       "      <td>b5</td>\n",
       "    </tr>\n",
       "    <tr>\n",
       "      <th>17516</th>\n",
       "      <td>17516</td>\n",
       "      <td>12</td>\n",
       "      <td>20</td>\n",
       "      <td>3</td>\n",
       "      <td>0</td>\n",
       "      <td>NaN</td>\n",
       "      <td>NaN</td>\n",
       "      <td>NaN</td>\n",
       "      <td>65.3</td>\n",
       "      <td>0</td>\n",
       "      <td>0</td>\n",
       "      <td>0</td>\n",
       "      <td>0.0</td>\n",
       "      <td>b5</td>\n",
       "    </tr>\n",
       "    <tr>\n",
       "      <th>17517</th>\n",
       "      <td>17517</td>\n",
       "      <td>12</td>\n",
       "      <td>21</td>\n",
       "      <td>3</td>\n",
       "      <td>0</td>\n",
       "      <td>NaN</td>\n",
       "      <td>NaN</td>\n",
       "      <td>NaN</td>\n",
       "      <td>60.6</td>\n",
       "      <td>0</td>\n",
       "      <td>0</td>\n",
       "      <td>0</td>\n",
       "      <td>0.0</td>\n",
       "      <td>b5</td>\n",
       "    </tr>\n",
       "    <tr>\n",
       "      <th>17518</th>\n",
       "      <td>17518</td>\n",
       "      <td>12</td>\n",
       "      <td>22</td>\n",
       "      <td>3</td>\n",
       "      <td>0</td>\n",
       "      <td>NaN</td>\n",
       "      <td>NaN</td>\n",
       "      <td>NaN</td>\n",
       "      <td>57.6</td>\n",
       "      <td>0</td>\n",
       "      <td>0</td>\n",
       "      <td>0</td>\n",
       "      <td>0.0</td>\n",
       "      <td>b5</td>\n",
       "    </tr>\n",
       "    <tr>\n",
       "      <th>17519</th>\n",
       "      <td>17519</td>\n",
       "      <td>12</td>\n",
       "      <td>23</td>\n",
       "      <td>3</td>\n",
       "      <td>0</td>\n",
       "      <td>NaN</td>\n",
       "      <td>NaN</td>\n",
       "      <td>NaN</td>\n",
       "      <td>57.9</td>\n",
       "      <td>0</td>\n",
       "      <td>0</td>\n",
       "      <td>0</td>\n",
       "      <td>0.0</td>\n",
       "      <td>b5</td>\n",
       "    </tr>\n",
       "  </tbody>\n",
       "</table>\n",
       "<p>17520 rows × 14 columns</p>\n",
       "</div>"
      ],
      "text/plain": [
       "       time_idx Month Hour Day Type Daylight Savings Status  \\\n",
       "0             0    12   24        1                       0   \n",
       "1             1     1    1        2                       0   \n",
       "2             2     1    2        2                       0   \n",
       "3             3     1    3        2                       0   \n",
       "4             4     1    4        2                       0   \n",
       "...         ...   ...  ...      ...                     ...   \n",
       "17515     17515    12   19        3                       0   \n",
       "17516     17516    12   20        3                       0   \n",
       "17517     17517    12   21        3                       0   \n",
       "17518     17518    12   22        3                       0   \n",
       "17519     17519    12   23        3                       0   \n",
       "\n",
       "       Indoor Temperature [C]  Average Unmet Cooling Setpoint Difference [C]  \\\n",
       "0                         NaN                                            NaN   \n",
       "1                         NaN                                            NaN   \n",
       "2                         NaN                                            NaN   \n",
       "3                         NaN                                            NaN   \n",
       "4                         NaN                                            NaN   \n",
       "...                       ...                                            ...   \n",
       "17515                     NaN                                            NaN   \n",
       "17516                     NaN                                            NaN   \n",
       "17517                     NaN                                            NaN   \n",
       "17518                     NaN                                            NaN   \n",
       "17519                     NaN                                            NaN   \n",
       "\n",
       "       Indoor Relative Humidity [%]  Equipment Electric Power [kWh]  \\\n",
       "0                               NaN                            70.0   \n",
       "1                               NaN                            69.3   \n",
       "2                               NaN                            69.3   \n",
       "3                               NaN                            69.8   \n",
       "4                               NaN                            69.4   \n",
       "...                             ...                             ...   \n",
       "17515                           NaN                            65.0   \n",
       "17516                           NaN                            65.3   \n",
       "17517                           NaN                            60.6   \n",
       "17518                           NaN                            57.6   \n",
       "17519                           NaN                            57.9   \n",
       "\n",
       "       DHW Heating [kWh]  Cooling Load [kWh]  Heating Load [kWh]  \\\n",
       "0                      0                   0                   0   \n",
       "1                      0                   0                   0   \n",
       "2                      0                   0                   0   \n",
       "3                      0                   0                   0   \n",
       "4                      0                   0                   0   \n",
       "...                  ...                 ...                 ...   \n",
       "17515                  0                   0                   0   \n",
       "17516                  0                   0                   0   \n",
       "17517                  0                   0                   0   \n",
       "17518                  0                   0                   0   \n",
       "17519                  0                   0                   0   \n",
       "\n",
       "       Solar Generation [W/kW] ts_id  \n",
       "0                          0.0    b5  \n",
       "1                          0.0    b5  \n",
       "2                          0.0    b5  \n",
       "3                          0.0    b5  \n",
       "4                          0.0    b5  \n",
       "...                        ...   ...  \n",
       "17515                      0.0    b5  \n",
       "17516                      0.0    b5  \n",
       "17517                      0.0    b5  \n",
       "17518                      0.0    b5  \n",
       "17519                      0.0    b5  \n",
       "\n",
       "[17520 rows x 14 columns]"
      ]
     },
     "execution_count": 7,
     "metadata": {},
     "output_type": "execute_result"
    }
   ],
   "source": [
    "train_data"
   ]
  },
  {
   "cell_type": "code",
   "execution_count": 8,
   "metadata": {},
   "outputs": [
    {
     "data": {
      "text/html": [
       "<div>\n",
       "<style scoped>\n",
       "    .dataframe tbody tr th:only-of-type {\n",
       "        vertical-align: middle;\n",
       "    }\n",
       "\n",
       "    .dataframe tbody tr th {\n",
       "        vertical-align: top;\n",
       "    }\n",
       "\n",
       "    .dataframe thead th {\n",
       "        text-align: right;\n",
       "    }\n",
       "</style>\n",
       "<table border=\"1\" class=\"dataframe\">\n",
       "  <thead>\n",
       "    <tr style=\"text-align: right;\">\n",
       "      <th></th>\n",
       "      <th>time_idx</th>\n",
       "      <th>Month</th>\n",
       "      <th>Hour</th>\n",
       "      <th>Day Type</th>\n",
       "      <th>Daylight Savings Status</th>\n",
       "      <th>Indoor Temperature [C]</th>\n",
       "      <th>Average Unmet Cooling Setpoint Difference [C]</th>\n",
       "      <th>Indoor Relative Humidity [%]</th>\n",
       "      <th>Equipment Electric Power [kWh]</th>\n",
       "      <th>DHW Heating [kWh]</th>\n",
       "      <th>Cooling Load [kWh]</th>\n",
       "      <th>Heating Load [kWh]</th>\n",
       "      <th>Solar Generation [W/kW]</th>\n",
       "      <th>ts_id</th>\n",
       "    </tr>\n",
       "  </thead>\n",
       "  <tbody>\n",
       "    <tr>\n",
       "      <th>0</th>\n",
       "      <td>0</td>\n",
       "      <td>12</td>\n",
       "      <td>24</td>\n",
       "      <td>5</td>\n",
       "      <td>0</td>\n",
       "      <td>NaN</td>\n",
       "      <td>NaN</td>\n",
       "      <td>NaN</td>\n",
       "      <td>83.5</td>\n",
       "      <td>0</td>\n",
       "      <td>0</td>\n",
       "      <td>0</td>\n",
       "      <td>0.0</td>\n",
       "      <td>b5</td>\n",
       "    </tr>\n",
       "    <tr>\n",
       "      <th>1</th>\n",
       "      <td>1</td>\n",
       "      <td>1</td>\n",
       "      <td>1</td>\n",
       "      <td>6</td>\n",
       "      <td>0</td>\n",
       "      <td>NaN</td>\n",
       "      <td>NaN</td>\n",
       "      <td>NaN</td>\n",
       "      <td>67.1</td>\n",
       "      <td>0</td>\n",
       "      <td>0</td>\n",
       "      <td>0</td>\n",
       "      <td>0.0</td>\n",
       "      <td>b5</td>\n",
       "    </tr>\n",
       "    <tr>\n",
       "      <th>2</th>\n",
       "      <td>2</td>\n",
       "      <td>1</td>\n",
       "      <td>2</td>\n",
       "      <td>6</td>\n",
       "      <td>0</td>\n",
       "      <td>NaN</td>\n",
       "      <td>NaN</td>\n",
       "      <td>NaN</td>\n",
       "      <td>67.9</td>\n",
       "      <td>0</td>\n",
       "      <td>0</td>\n",
       "      <td>0</td>\n",
       "      <td>0.0</td>\n",
       "      <td>b5</td>\n",
       "    </tr>\n",
       "    <tr>\n",
       "      <th>3</th>\n",
       "      <td>3</td>\n",
       "      <td>1</td>\n",
       "      <td>3</td>\n",
       "      <td>6</td>\n",
       "      <td>0</td>\n",
       "      <td>NaN</td>\n",
       "      <td>NaN</td>\n",
       "      <td>NaN</td>\n",
       "      <td>68.4</td>\n",
       "      <td>0</td>\n",
       "      <td>0</td>\n",
       "      <td>0</td>\n",
       "      <td>0.0</td>\n",
       "      <td>b5</td>\n",
       "    </tr>\n",
       "    <tr>\n",
       "      <th>4</th>\n",
       "      <td>4</td>\n",
       "      <td>1</td>\n",
       "      <td>4</td>\n",
       "      <td>6</td>\n",
       "      <td>0</td>\n",
       "      <td>NaN</td>\n",
       "      <td>NaN</td>\n",
       "      <td>NaN</td>\n",
       "      <td>67.2</td>\n",
       "      <td>0</td>\n",
       "      <td>0</td>\n",
       "      <td>0</td>\n",
       "      <td>0.0</td>\n",
       "      <td>b5</td>\n",
       "    </tr>\n",
       "    <tr>\n",
       "      <th>...</th>\n",
       "      <td>...</td>\n",
       "      <td>...</td>\n",
       "      <td>...</td>\n",
       "      <td>...</td>\n",
       "      <td>...</td>\n",
       "      <td>...</td>\n",
       "      <td>...</td>\n",
       "      <td>...</td>\n",
       "      <td>...</td>\n",
       "      <td>...</td>\n",
       "      <td>...</td>\n",
       "      <td>...</td>\n",
       "      <td>...</td>\n",
       "      <td>...</td>\n",
       "    </tr>\n",
       "    <tr>\n",
       "      <th>17539</th>\n",
       "      <td>17539</td>\n",
       "      <td>12</td>\n",
       "      <td>19</td>\n",
       "      <td>1</td>\n",
       "      <td>0</td>\n",
       "      <td>NaN</td>\n",
       "      <td>NaN</td>\n",
       "      <td>NaN</td>\n",
       "      <td>71.6</td>\n",
       "      <td>0</td>\n",
       "      <td>0</td>\n",
       "      <td>0</td>\n",
       "      <td>0.0</td>\n",
       "      <td>b5</td>\n",
       "    </tr>\n",
       "    <tr>\n",
       "      <th>17540</th>\n",
       "      <td>17540</td>\n",
       "      <td>12</td>\n",
       "      <td>20</td>\n",
       "      <td>1</td>\n",
       "      <td>0</td>\n",
       "      <td>NaN</td>\n",
       "      <td>NaN</td>\n",
       "      <td>NaN</td>\n",
       "      <td>70.1</td>\n",
       "      <td>0</td>\n",
       "      <td>0</td>\n",
       "      <td>0</td>\n",
       "      <td>0.0</td>\n",
       "      <td>b5</td>\n",
       "    </tr>\n",
       "    <tr>\n",
       "      <th>17541</th>\n",
       "      <td>17541</td>\n",
       "      <td>12</td>\n",
       "      <td>21</td>\n",
       "      <td>1</td>\n",
       "      <td>0</td>\n",
       "      <td>NaN</td>\n",
       "      <td>NaN</td>\n",
       "      <td>NaN</td>\n",
       "      <td>69.4</td>\n",
       "      <td>0</td>\n",
       "      <td>0</td>\n",
       "      <td>0</td>\n",
       "      <td>0.0</td>\n",
       "      <td>b5</td>\n",
       "    </tr>\n",
       "    <tr>\n",
       "      <th>17542</th>\n",
       "      <td>17542</td>\n",
       "      <td>12</td>\n",
       "      <td>22</td>\n",
       "      <td>1</td>\n",
       "      <td>0</td>\n",
       "      <td>NaN</td>\n",
       "      <td>NaN</td>\n",
       "      <td>NaN</td>\n",
       "      <td>69.1</td>\n",
       "      <td>0</td>\n",
       "      <td>0</td>\n",
       "      <td>0</td>\n",
       "      <td>0.0</td>\n",
       "      <td>b5</td>\n",
       "    </tr>\n",
       "    <tr>\n",
       "      <th>17543</th>\n",
       "      <td>17543</td>\n",
       "      <td>12</td>\n",
       "      <td>23</td>\n",
       "      <td>1</td>\n",
       "      <td>0</td>\n",
       "      <td>NaN</td>\n",
       "      <td>NaN</td>\n",
       "      <td>NaN</td>\n",
       "      <td>69.4</td>\n",
       "      <td>0</td>\n",
       "      <td>0</td>\n",
       "      <td>0</td>\n",
       "      <td>0.0</td>\n",
       "      <td>b5</td>\n",
       "    </tr>\n",
       "  </tbody>\n",
       "</table>\n",
       "<p>17544 rows × 14 columns</p>\n",
       "</div>"
      ],
      "text/plain": [
       "       time_idx Month Hour Day Type Daylight Savings Status  \\\n",
       "0             0    12   24        5                       0   \n",
       "1             1     1    1        6                       0   \n",
       "2             2     1    2        6                       0   \n",
       "3             3     1    3        6                       0   \n",
       "4             4     1    4        6                       0   \n",
       "...         ...   ...  ...      ...                     ...   \n",
       "17539     17539    12   19        1                       0   \n",
       "17540     17540    12   20        1                       0   \n",
       "17541     17541    12   21        1                       0   \n",
       "17542     17542    12   22        1                       0   \n",
       "17543     17543    12   23        1                       0   \n",
       "\n",
       "       Indoor Temperature [C]  Average Unmet Cooling Setpoint Difference [C]  \\\n",
       "0                         NaN                                            NaN   \n",
       "1                         NaN                                            NaN   \n",
       "2                         NaN                                            NaN   \n",
       "3                         NaN                                            NaN   \n",
       "4                         NaN                                            NaN   \n",
       "...                       ...                                            ...   \n",
       "17539                     NaN                                            NaN   \n",
       "17540                     NaN                                            NaN   \n",
       "17541                     NaN                                            NaN   \n",
       "17542                     NaN                                            NaN   \n",
       "17543                     NaN                                            NaN   \n",
       "\n",
       "       Indoor Relative Humidity [%]  Equipment Electric Power [kWh]  \\\n",
       "0                               NaN                            83.5   \n",
       "1                               NaN                            67.1   \n",
       "2                               NaN                            67.9   \n",
       "3                               NaN                            68.4   \n",
       "4                               NaN                            67.2   \n",
       "...                             ...                             ...   \n",
       "17539                           NaN                            71.6   \n",
       "17540                           NaN                            70.1   \n",
       "17541                           NaN                            69.4   \n",
       "17542                           NaN                            69.1   \n",
       "17543                           NaN                            69.4   \n",
       "\n",
       "       DHW Heating [kWh]  Cooling Load [kWh]  Heating Load [kWh]  \\\n",
       "0                      0                   0                   0   \n",
       "1                      0                   0                   0   \n",
       "2                      0                   0                   0   \n",
       "3                      0                   0                   0   \n",
       "4                      0                   0                   0   \n",
       "...                  ...                 ...                 ...   \n",
       "17539                  0                   0                   0   \n",
       "17540                  0                   0                   0   \n",
       "17541                  0                   0                   0   \n",
       "17542                  0                   0                   0   \n",
       "17543                  0                   0                   0   \n",
       "\n",
       "       Solar Generation [W/kW] ts_id  \n",
       "0                          0.0    b5  \n",
       "1                          0.0    b5  \n",
       "2                          0.0    b5  \n",
       "3                          0.0    b5  \n",
       "4                          0.0    b5  \n",
       "...                        ...   ...  \n",
       "17539                      0.0    b5  \n",
       "17540                      0.0    b5  \n",
       "17541                      0.0    b5  \n",
       "17542                      0.0    b5  \n",
       "17543                      0.0    b5  \n",
       "\n",
       "[17544 rows x 14 columns]"
      ]
     },
     "execution_count": 8,
     "metadata": {},
     "output_type": "execute_result"
    }
   ],
   "source": [
    "val_data"
   ]
  },
  {
   "cell_type": "code",
   "execution_count": 9,
   "metadata": {},
   "outputs": [],
   "source": [
    "# construct training dataset\n",
    "max_encoder_length = 48 # max number of previous instances to use for prediction\n",
    "max_prediction_length = 24 # max forecasting horizon\n",
    "\n",
    "training = TimeSeriesDataSet(\n",
    "    train_data,\n",
    "    time_idx= 'time_idx',  # column name of time of observation\n",
    "    target= 'Equipment Electric Power [kWh]',  # column name of target to predict\n",
    "    group_ids=['ts_id'],  # column name(s) for timeseries IDs\n",
    "    max_encoder_length=max_encoder_length,  # how much history to use\n",
    "    max_prediction_length=max_prediction_length,  # how far to predict into future\n",
    "    # covariates static for a timeseries ID - ignore for the moment\n",
    "    #static_categoricals=[ ... ],\n",
    "    #static_reals=[ ... ],\n",
    "    # covariates known and unknown in the future to inform prediction\n",
    "    time_varying_known_categoricals=['Month','Hour','Day Type','Daylight Savings Status'],\n",
    "    #time_varying_known_reals=[ ... ],\n",
    "    #time_varying_unknown_categoricals=[ ... ],\n",
    "    #time_varying_unknown_reals=[ ... ],\n",
    ")"
   ]
  },
  {
   "cell_type": "code",
   "execution_count": 10,
   "metadata": {},
   "outputs": [],
   "source": [
    "# create validation dataset using the same normalization techniques as for the training dataset\n",
    "validation = TimeSeriesDataSet.from_dataset(training, val_data)"
   ]
  },
  {
   "cell_type": "code",
   "execution_count": 11,
   "metadata": {},
   "outputs": [],
   "source": [
    "# convert datasets to dataloaders for training\n",
    "batch_size = 128\n",
    "n_workers = 4\n",
    "train_dataloader = training.to_dataloader(train=True, batch_size=batch_size, num_workers=n_workers)\n",
    "val_dataloader = validation.to_dataloader(train=False, batch_size=batch_size, num_workers=n_workers)"
   ]
  },
  {
   "attachments": {},
   "cell_type": "markdown",
   "metadata": {},
   "source": [
    "## Train model"
   ]
  },
  {
   "cell_type": "code",
   "execution_count": 12,
   "metadata": {},
   "outputs": [
    {
     "name": "stderr",
     "output_type": "stream",
     "text": [
      "Global seed set to 42\n"
     ]
    },
    {
     "data": {
      "text/plain": [
       "42"
      ]
     },
     "execution_count": 12,
     "metadata": {},
     "output_type": "execute_result"
    }
   ],
   "source": [
    "pl.seed_everything(42)"
   ]
  },
  {
   "attachments": {},
   "cell_type": "markdown",
   "metadata": {},
   "source": [
    "### Tune hyper-parameters"
   ]
  },
  {
   "cell_type": "code",
   "execution_count": 13,
   "metadata": {},
   "outputs": [
    {
     "name": "stderr",
     "output_type": "stream",
     "text": [
      "/Users/max/opt/anaconda3/envs/Annex37/lib/python3.8/site-packages/pytorch_lightning/trainer/connectors/accelerator_connector.py:478: LightningDeprecationWarning: Setting `Trainer(gpus=0)` is deprecated in v1.7 and will be removed in v2.0. Please use `Trainer(accelerator='gpu', devices=0)` instead.\n",
      "  rank_zero_deprecation(\n",
      "GPU available: False, used: False\n",
      "TPU available: False, using: 0 TPU cores\n",
      "IPU available: False, using: 0 IPUs\n",
      "HPU available: False, using: 0 HPUs\n"
     ]
    },
    {
     "name": "stdout",
     "output_type": "stream",
     "text": [
      "Number of parameters in network: 119.8k\n"
     ]
    },
    {
     "name": "stderr",
     "output_type": "stream",
     "text": [
      "/Users/max/opt/anaconda3/envs/Annex37/lib/python3.8/site-packages/pytorch_lightning/utilities/parsing.py:269: UserWarning: Attribute 'loss' is an instance of `nn.Module` and is already saved during checkpointing. It is recommended to ignore them using `self.save_hyperparameters(ignore=['loss'])`.\n",
      "  rank_zero_warn(\n",
      "/Users/max/opt/anaconda3/envs/Annex37/lib/python3.8/site-packages/pytorch_lightning/utilities/parsing.py:269: UserWarning: Attribute 'logging_metrics' is an instance of `nn.Module` and is already saved during checkpointing. It is recommended to ignore them using `self.save_hyperparameters(ignore=['logging_metrics'])`.\n",
      "  rank_zero_warn(\n"
     ]
    }
   ],
   "source": [
    "hparam_trainer = pl.Trainer(\n",
    "    deterministic=True,\n",
    "    gpus=0,\n",
    "    gradient_clip_val=0.1, # clipping gradients is a hyperparameter and important to prevent divergance of the gradient for recurrent neural networks\n",
    "    logger=TensorBoardLogger(save_dir=os.path.join(\"lightning_logs\",\"TFT-test\"), name=f'{csv_fname}')\n",
    ")\n",
    "\n",
    "\n",
    "# define network to train - the architecture is mostly inferred from the dataset, so that only a few hyperparameters have to be set by the user\n",
    "tft = TemporalFusionTransformer.from_dataset(\n",
    "    # dataset\n",
    "    training,\n",
    "    # architecture hyperparameters\n",
    "    hidden_size=48,\n",
    "    attention_head_size=4,\n",
    "    dropout=0.1,\n",
    "    hidden_continuous_size=16,\n",
    "    # loss metric to optimize\n",
    "    loss=QuantileLoss(),\n",
    "    # logging frequency\n",
    "    #log_interval=2,\n",
    "    # set optimizer\n",
    "    optimizer='adam',\n",
    "    # optimizer parameters\n",
    "    learning_rate=0.03,\n",
    "    reduce_on_plateau_patience=5\n",
    ")\n",
    "print(f\"Number of parameters in network: {tft.size()/1e3:.1f}k\")"
   ]
  },
  {
   "cell_type": "code",
   "execution_count": 14,
   "metadata": {},
   "outputs": [
    {
     "name": "stderr",
     "output_type": "stream",
     "text": [
      "/Users/max/opt/anaconda3/envs/Annex37/lib/python3.8/site-packages/pytorch_lightning/loops/utilities.py:94: PossibleUserWarning: `max_epochs` was not set. Setting it to 1000 epochs. To train without an epoch limit, set `max_epochs=-1`.\n",
      "  rank_zero_warn(\n"
     ]
    },
    {
     "data": {
      "application/vnd.jupyter.widget-view+json": {
       "model_id": "fe4adaa13218423e9e312efd0834483e",
       "version_major": 2,
       "version_minor": 0
      },
      "text/plain": [
       "Finding best initial lr:   0%|          | 0/100 [00:00<?, ?it/s]"
      ]
     },
     "metadata": {},
     "output_type": "display_data"
    },
    {
     "name": "stderr",
     "output_type": "stream",
     "text": [
      "`Trainer.fit` stopped: `max_steps=100` reached.\n",
      "Restoring states from the checkpoint path at /Users/max/Documents/PhD/Research/3 - Annex 37 CityLearn project/Annex_37/.lr_find_243e300f-4323-4203-b01c-41118c1e4dbe.ckpt\n",
      "Restored all states from the checkpoint file at /Users/max/Documents/PhD/Research/3 - Annex 37 CityLearn project/Annex_37/.lr_find_243e300f-4323-4203-b01c-41118c1e4dbe.ckpt\n"
     ]
    },
    {
     "name": "stdout",
     "output_type": "stream",
     "text": [
      "Suggested learning rate: 0.001\n"
     ]
    },
    {
     "data": {
      "image/png": "[encoded data removed]",
      "text/plain": [
       "<Figure size 640x480 with 1 Axes>"
      ]
     },
     "metadata": {},
     "output_type": "display_data"
    },
    {
     "name": "stderr",
     "output_type": "stream",
     "text": [
      "/var/folders/6t/69m7_zyd5_7crwy0sp1s3x100000gn/T/ipykernel_51406/3775189597.py:12: UserWarning: Matplotlib is currently using module://matplotlib_inline.backend_inline, which is a non-GUI backend, so cannot show the figure.\n",
      "  fig.show()\n"
     ]
    }
   ],
   "source": [
    "# find optimal learning rate\n",
    "res = hparam_trainer.tuner.lr_find(\n",
    "    tft,\n",
    "    train_dataloaders=train_dataloader,\n",
    "    val_dataloaders=val_dataloader,\n",
    "    max_lr=1.0,\n",
    "    min_lr=1e-6,\n",
    ")\n",
    "\n",
    "print(f\"Suggested learning rate: {res.suggestion()}\")\n",
    "fig = res.plot(show=True, suggest=True)\n",
    "fig.show()"
   ]
  },
  {
   "cell_type": "code",
   "execution_count": 15,
   "metadata": {},
   "outputs": [],
   "source": [
    "from pytorch_forecasting.models.temporal_fusion_transformer.tuning import optimize_hyperparameters"
   ]
  },
  {
   "cell_type": "code",
   "execution_count": 16,
   "metadata": {},
   "outputs": [],
   "source": [
    "# This is going to be a hefty hparam optimisation\n",
    "# # create study\n",
    "# study = optimize_hyperparameters(\n",
    "#     train_dataloader,\n",
    "#     val_dataloader,\n",
    "#     model_path=\"optuna_test\",\n",
    "#     n_trials=200,\n",
    "#     max_epochs=50,\n",
    "#     gradient_clip_val_range=(0.01, 1.0),\n",
    "#     hidden_size_range=(8, 128),\n",
    "#     hidden_continuous_size_range=(8, 128),\n",
    "#     attention_head_size_range=(1, 4),\n",
    "#     learning_rate_range=(0.001, 0.1),\n",
    "#     dropout_range=(0.1, 0.3),\n",
    "#     trainer_kwargs=dict(limit_train_batches=30),\n",
    "#     reduce_on_plateau_patience=4,\n",
    "#     use_learning_rate_finder=False,  # use Optuna to find ideal learning rate or use in-built learning rate finder\n",
    "# )"
   ]
  },
  {
   "attachments": {},
   "cell_type": "markdown",
   "metadata": {},
   "source": [
    "### Perform training"
   ]
  },
  {
   "cell_type": "code",
   "execution_count": 17,
   "metadata": {},
   "outputs": [
    {
     "name": "stderr",
     "output_type": "stream",
     "text": [
      "GPU available: False, used: False\n",
      "TPU available: False, using: 0 TPU cores\n",
      "IPU available: False, using: 0 IPUs\n",
      "HPU available: False, using: 0 HPUs\n"
     ]
    }
   ],
   "source": [
    "# create PyTorch Lighning Trainer with early stopping\n",
    "early_stop_callback = EarlyStopping(monitor=\"val_loss\", min_delta=1e-6, patience=5, verbose=False, mode=\"min\")\n",
    "lr_logger = LearningRateMonitor()\n",
    "trainer = pl.Trainer(\n",
    "    deterministic=True,\n",
    "    accelerator='cpu',\n",
    "    max_epochs=100,\n",
    "    #gpus=0,  # run on CPU, if on multiple GPUs, use accelerator=\"ddp\"\n",
    "    enable_model_summary=True,\n",
    "    gradient_clip_val=0.1,\n",
    "    limit_train_batches=500,  # batches per epoch\n",
    "    callbacks=[lr_logger, early_stop_callback],\n",
    "    logger=TensorBoardLogger(save_dir=os.path.join(\"lightning_logs\",\"TFT-test\"), name=f'{csv_fname}')\n",
    ")"
   ]
  },
  {
   "cell_type": "code",
   "execution_count": 18,
   "metadata": {},
   "outputs": [
    {
     "name": "stdout",
     "output_type": "stream",
     "text": [
      "Number of parameters in network: 119.8k\n"
     ]
    },
    {
     "name": "stderr",
     "output_type": "stream",
     "text": [
      "/Users/max/opt/anaconda3/envs/Annex37/lib/python3.8/site-packages/pytorch_lightning/utilities/parsing.py:269: UserWarning: Attribute 'loss' is an instance of `nn.Module` and is already saved during checkpointing. It is recommended to ignore them using `self.save_hyperparameters(ignore=['loss'])`.\n",
      "  rank_zero_warn(\n",
      "/Users/max/opt/anaconda3/envs/Annex37/lib/python3.8/site-packages/pytorch_lightning/utilities/parsing.py:269: UserWarning: Attribute 'logging_metrics' is an instance of `nn.Module` and is already saved during checkpointing. It is recommended to ignore them using `self.save_hyperparameters(ignore=['logging_metrics'])`.\n",
      "  rank_zero_warn(\n"
     ]
    }
   ],
   "source": [
    "# define network to train - can I just load this?\n",
    "tft = TemporalFusionTransformer.from_dataset(\n",
    "    # dataset\n",
    "    training,\n",
    "    # architecture hyperparameters\n",
    "    hidden_size=48,\n",
    "    attention_head_size=4,\n",
    "    dropout=0.1,\n",
    "    hidden_continuous_size=16,\n",
    "    # loss metric to optimize\n",
    "    loss=QuantileLoss(),\n",
    "    # logging frequency\n",
    "    #log_interval=2,\n",
    "    # set optimizer\n",
    "    optimizer='adam',\n",
    "    # optimizer parameters\n",
    "    learning_rate=res.suggestion(),\n",
    "    reduce_on_plateau_patience=5\n",
    ")\n",
    "print(f\"Number of parameters in network: {tft.size()/1e3:.1f}k\")"
   ]
  },
  {
   "cell_type": "code",
   "execution_count": 19,
   "metadata": {},
   "outputs": [
    {
     "name": "stderr",
     "output_type": "stream",
     "text": [
      "\n",
      "   | Name                               | Type                            | Params\n",
      "----------------------------------------------------------------------------------------\n",
      "0  | loss                               | QuantileLoss                    | 0     \n",
      "1  | logging_metrics                    | ModuleList                      | 0     \n",
      "2  | input_embeddings                   | MultiEmbedding                  | 325   \n",
      "3  | prescalers                         | ModuleDict                      | 0     \n",
      "4  | static_variable_selection          | VariableSelectionNetwork        | 0     \n",
      "5  | encoder_variable_selection         | VariableSelectionNetwork        | 936   \n",
      "6  | decoder_variable_selection         | VariableSelectionNetwork        | 936   \n",
      "7  | static_context_variable_selection  | GatedResidualNetwork            | 9.5 K \n",
      "8  | static_context_initial_hidden_lstm | GatedResidualNetwork            | 9.5 K \n",
      "9  | static_context_initial_cell_lstm   | GatedResidualNetwork            | 9.5 K \n",
      "10 | static_context_enrichment          | GatedResidualNetwork            | 9.5 K \n",
      "11 | lstm_encoder                       | LSTM                            | 18.8 K\n",
      "12 | lstm_decoder                       | LSTM                            | 18.8 K\n",
      "13 | post_lstm_gate_encoder             | GatedLinearUnit                 | 4.7 K \n",
      "14 | post_lstm_add_norm_encoder         | AddNorm                         | 96    \n",
      "15 | static_enrichment                  | GatedResidualNetwork            | 11.8 K\n",
      "16 | multihead_attn                     | InterpretableMultiHeadAttention | 5.9 K \n",
      "17 | post_attn_gate_norm                | GateAddNorm                     | 4.8 K \n",
      "18 | pos_wise_ff                        | GatedResidualNetwork            | 9.5 K \n",
      "19 | pre_output_gate_norm               | GateAddNorm                     | 4.8 K \n",
      "20 | output_layer                       | Linear                          | 343   \n",
      "----------------------------------------------------------------------------------------\n",
      "119 K     Trainable params\n",
      "0         Non-trainable params\n",
      "119 K     Total params\n",
      "0.479     Total estimated model params size (MB)\n"
     ]
    },
    {
     "data": {
      "application/vnd.jupyter.widget-view+json": {
       "model_id": "52cd3558afae42b6bc6684565d4abbe8",
       "version_major": 2,
       "version_minor": 0
      },
      "text/plain": [
       "Sanity Checking: 0it [00:00, ?it/s]"
      ]
     },
     "metadata": {},
     "output_type": "display_data"
    },
    {
     "data": {
      "application/vnd.jupyter.widget-view+json": {
       "model_id": "47e6241295a14d21ad8ebd43cdad6437",
       "version_major": 2,
       "version_minor": 0
      },
      "text/plain": [
       "Training: 0it [00:00, ?it/s]"
      ]
     },
     "metadata": {},
     "output_type": "display_data"
    },
    {
     "data": {
      "application/vnd.jupyter.widget-view+json": {
       "model_id": "db4112facdc04ad7ab379f4f6411c9f4",
       "version_major": 2,
       "version_minor": 0
      },
      "text/plain": [
       "Validation: 0it [00:00, ?it/s]"
      ]
     },
     "metadata": {},
     "output_type": "display_data"
    },
    {
     "data": {
      "application/vnd.jupyter.widget-view+json": {
       "model_id": "1c14234f3e7745e08ff15f9cd0442a27",
       "version_major": 2,
       "version_minor": 0
      },
      "text/plain": [
       "Validation: 0it [00:00, ?it/s]"
      ]
     },
     "metadata": {},
     "output_type": "display_data"
    },
    {
     "data": {
      "application/vnd.jupyter.widget-view+json": {
       "model_id": "c00aafa7295644f68b3d182006b7227d",
       "version_major": 2,
       "version_minor": 0
      },
      "text/plain": [
       "Validation: 0it [00:00, ?it/s]"
      ]
     },
     "metadata": {},
     "output_type": "display_data"
    },
    {
     "data": {
      "application/vnd.jupyter.widget-view+json": {
       "model_id": "06b2daecd8094232bb9ba34620ccd60a",
       "version_major": 2,
       "version_minor": 0
      },
      "text/plain": [
       "Validation: 0it [00:00, ?it/s]"
      ]
     },
     "metadata": {},
     "output_type": "display_data"
    },
    {
     "data": {
      "application/vnd.jupyter.widget-view+json": {
       "model_id": "484a82fde9724a9180b78aba7223cd27",
       "version_major": 2,
       "version_minor": 0
      },
      "text/plain": [
       "Validation: 0it [00:00, ?it/s]"
      ]
     },
     "metadata": {},
     "output_type": "display_data"
    },
    {
     "data": {
      "application/vnd.jupyter.widget-view+json": {
       "model_id": "b3fca78e8d974c2d8554b84ba3eec5d4",
       "version_major": 2,
       "version_minor": 0
      },
      "text/plain": [
       "Validation: 0it [00:00, ?it/s]"
      ]
     },
     "metadata": {},
     "output_type": "display_data"
    },
    {
     "data": {
      "application/vnd.jupyter.widget-view+json": {
       "model_id": "4835c4082b0146678196e9fbd6d73b5c",
       "version_major": 2,
       "version_minor": 0
      },
      "text/plain": [
       "Validation: 0it [00:00, ?it/s]"
      ]
     },
     "metadata": {},
     "output_type": "display_data"
    },
    {
     "data": {
      "application/vnd.jupyter.widget-view+json": {
       "model_id": "90a57907a347491f91c65eaea3f6f218",
       "version_major": 2,
       "version_minor": 0
      },
      "text/plain": [
       "Validation: 0it [00:00, ?it/s]"
      ]
     },
     "metadata": {},
     "output_type": "display_data"
    },
    {
     "data": {
      "application/vnd.jupyter.widget-view+json": {
       "model_id": "f28e551f4c314540a8efe5f6003a5966",
       "version_major": 2,
       "version_minor": 0
      },
      "text/plain": [
       "Validation: 0it [00:00, ?it/s]"
      ]
     },
     "metadata": {},
     "output_type": "display_data"
    },
    {
     "data": {
      "application/vnd.jupyter.widget-view+json": {
       "model_id": "c5f437c84af14afda29f77f625b89270",
       "version_major": 2,
       "version_minor": 0
      },
      "text/plain": [
       "Validation: 0it [00:00, ?it/s]"
      ]
     },
     "metadata": {},
     "output_type": "display_data"
    },
    {
     "data": {
      "application/vnd.jupyter.widget-view+json": {
       "model_id": "ec1d92272f2246868f899d4f4cf07462",
       "version_major": 2,
       "version_minor": 0
      },
      "text/plain": [
       "Validation: 0it [00:00, ?it/s]"
      ]
     },
     "metadata": {},
     "output_type": "display_data"
    },
    {
     "data": {
      "application/vnd.jupyter.widget-view+json": {
       "model_id": "bceeb09b5efa4f998a2d4a1e4c9d77f1",
       "version_major": 2,
       "version_minor": 0
      },
      "text/plain": [
       "Validation: 0it [00:00, ?it/s]"
      ]
     },
     "metadata": {},
     "output_type": "display_data"
    },
    {
     "data": {
      "application/vnd.jupyter.widget-view+json": {
       "model_id": "4953cc583462493190d36f2078d030a7",
       "version_major": 2,
       "version_minor": 0
      },
      "text/plain": [
       "Validation: 0it [00:00, ?it/s]"
      ]
     },
     "metadata": {},
     "output_type": "display_data"
    },
    {
     "data": {
      "application/vnd.jupyter.widget-view+json": {
       "model_id": "1e40967732a8440796dc726024d2f0ab",
       "version_major": 2,
       "version_minor": 0
      },
      "text/plain": [
       "Validation: 0it [00:00, ?it/s]"
      ]
     },
     "metadata": {},
     "output_type": "display_data"
    },
    {
     "data": {
      "application/vnd.jupyter.widget-view+json": {
       "model_id": "d071a0f395ee4c2b8b41f5bb60b065f0",
       "version_major": 2,
       "version_minor": 0
      },
      "text/plain": [
       "Validation: 0it [00:00, ?it/s]"
      ]
     },
     "metadata": {},
     "output_type": "display_data"
    },
    {
     "data": {
      "application/vnd.jupyter.widget-view+json": {
       "model_id": "7013c599ab3641a6a73731a4b6703ab4",
       "version_major": 2,
       "version_minor": 0
      },
      "text/plain": [
       "Validation: 0it [00:00, ?it/s]"
      ]
     },
     "metadata": {},
     "output_type": "display_data"
    },
    {
     "data": {
      "application/vnd.jupyter.widget-view+json": {
       "model_id": "4db0e970cfcc43c89e54fafb34fc7f4e",
       "version_major": 2,
       "version_minor": 0
      },
      "text/plain": [
       "Validation: 0it [00:00, ?it/s]"
      ]
     },
     "metadata": {},
     "output_type": "display_data"
    },
    {
     "data": {
      "application/vnd.jupyter.widget-view+json": {
       "model_id": "2d0cb458c8ee43cbaddc53c22f65df1f",
       "version_major": 2,
       "version_minor": 0
      },
      "text/plain": [
       "Validation: 0it [00:00, ?it/s]"
      ]
     },
     "metadata": {},
     "output_type": "display_data"
    },
    {
     "data": {
      "application/vnd.jupyter.widget-view+json": {
       "model_id": "9ed80535e32f4081bb0fbb488cbce00e",
       "version_major": 2,
       "version_minor": 0
      },
      "text/plain": [
       "Validation: 0it [00:00, ?it/s]"
      ]
     },
     "metadata": {},
     "output_type": "display_data"
    }
   ],
   "source": [
    "# fit the model on the data \n",
    "trainer.fit(\n",
    "    tft,\n",
    "    train_dataloaders=train_dataloader,\n",
    "    val_dataloaders=val_dataloader,\n",
    "    #ckpt_path='best' # use of re-training after load\n",
    ")"
   ]
  },
  {
   "attachments": {},
   "cell_type": "markdown",
   "metadata": {},
   "source": [
    "### Evaluate trained model"
   ]
  },
  {
   "cell_type": "code",
   "execution_count": 20,
   "metadata": {},
   "outputs": [
    {
     "name": "stdout",
     "output_type": "stream",
     "text": [
      "lightning_logs/TFT-test/UCam_Building_5/version_3/checkpoints/epoch=18-step=2584.ckpt\n"
     ]
    }
   ],
   "source": [
    "# load the best model according to the validation loss\n",
    "# (given that we use early stopping, this is not necessarily the last epoch)\n",
    "best_model_path = trainer.checkpoint_callback.best_model_path\n",
    "print(best_model_path)\n",
    "\n",
    "# os.path.join('lightning_logs','TFT-test', 'UCam_Building_5','version_3','checkpoints','epoch=18-step=2584.ckpt')\n",
    "tft = TemporalFusionTransformer.load_from_checkpoint(best_model_path)"
   ]
  },
  {
   "cell_type": "code",
   "execution_count": 21,
   "metadata": {},
   "outputs": [
    {
     "name": "stdout",
     "output_type": "stream",
     "text": [
      "tensor(12.1847)\n",
      "129.83198814409485\n"
     ]
    }
   ],
   "source": [
    "# calculate mean absolute error on validation set\n",
    "actuals = torch.cat([y[0] for x, y in iter(val_dataloader)])\n",
    "predictions = tft.predict(val_dataloader)\n",
    "print((actuals - predictions).abs().mean())\n",
    "print(val_data['Equipment Electric Power [kWh]'].abs().mean())"
   ]
  },
  {
   "cell_type": "code",
   "execution_count": 22,
   "metadata": {},
   "outputs": [
    {
     "name": "stdout",
     "output_type": "stream",
     "text": [
      "[110.67912  111.76519  117.27004  181.918    208.37369  218.7532\n",
      " 220.94153  220.94788  215.77792  214.45074  213.62408  209.11026\n",
      " 200.11441  182.23985  155.71082  137.03325   86.60782   69.42182\n",
      "  69.16123   68.7106    69.07926   70.5229    76.369865 101.3596  ]\n"
     ]
    }
   ],
   "source": [
    "print(np.array(predictions[245]))"
   ]
  },
  {
   "cell_type": "code",
   "execution_count": 23,
   "metadata": {},
   "outputs": [
    {
     "name": "stdout",
     "output_type": "stream",
     "text": [
      "tensor(7.8849)\n"
     ]
    }
   ],
   "source": [
    "raw_predictions, x = tft.predict(val_dataloader, mode=\"raw\", return_x=True)\n",
    "print(tft.loss.compute())"
   ]
  },
  {
   "cell_type": "code",
   "execution_count": 24,
   "metadata": {},
   "outputs": [
    {
     "name": "stdout",
     "output_type": "stream",
     "text": [
      "QuantileLoss(quantiles=[0.02, 0.1, 0.25, 0.5, 0.75, 0.9, 0.98])\n"
     ]
    }
   ],
   "source": [
    "print(tft.loss)"
   ]
  },
  {
   "cell_type": "code",
   "execution_count": 25,
   "metadata": {},
   "outputs": [
    {
     "name": "stdout",
     "output_type": "stream",
     "text": [
      "('prediction', 'encoder_attention', 'decoder_attention', 'static_variables', 'encoder_variables', 'decoder_variables', 'decoder_lengths', 'encoder_lengths')\n",
      "dict_keys(['encoder_cat', 'encoder_cont', 'encoder_target', 'encoder_lengths', 'decoder_cat', 'decoder_cont', 'decoder_target', 'decoder_lengths', 'decoder_time_idx', 'groups', 'target_scale'])\n"
     ]
    }
   ],
   "source": [
    "print(raw_predictions.keys())\n",
    "print(x.keys())"
   ]
  },
  {
   "cell_type": "code",
   "execution_count": 26,
   "metadata": {},
   "outputs": [
    {
     "name": "stdout",
     "output_type": "stream",
     "text": [
      "torch.Size([17473, 24, 7])\n",
      "torch.Size([17473, 24])\n",
      "torch.Size([17473, 48])\n"
     ]
    }
   ],
   "source": [
    "print(raw_predictions['prediction'].shape)\n",
    "print(x['decoder_target'].shape)\n",
    "print(x['encoder_target'].shape)"
   ]
  },
  {
   "cell_type": "code",
   "execution_count": 27,
   "metadata": {},
   "outputs": [],
   "source": [
    "import matplotlib\n",
    "import matplotlib.pyplot as plt\n",
    "from matplotlib import animation"
   ]
  },
  {
   "cell_type": "code",
   "execution_count": 28,
   "metadata": {},
   "outputs": [
    {
     "data": {
      "image/png": "[encoded data removed]",
      "text/plain": [
       "<Figure size 640x480 with 2 Axes>"
      ]
     },
     "metadata": {},
     "output_type": "display_data"
    }
   ],
   "source": [
    "fig, main_ax = plt.subplots()\n",
    "idx = 3000\n",
    "fig = tft.plot_prediction(x, raw_predictions, idx=idx, add_loss_to_title=True, ax=main_ax)\n",
    "axs = fig.get_axes()\n",
    "axs[0].set_ylabel('Electrical Load (kWh)')\n",
    "prediction_loss = float(axs[0].get_title().split(' ')[1])\n",
    "axs[0].set_title(f'Timestep: {idx}   Loss: {round(prediction_loss,4)}')\n",
    "plt.show()"
   ]
  },
  {
   "cell_type": "code",
   "execution_count": 29,
   "metadata": {},
   "outputs": [],
   "source": [
    "# kWh_max = 300\n",
    "# start = 1000\n",
    "\n",
    "# fig, main_ax = plt.subplots()\n",
    "# alt_ax = main_ax.twinx()\n",
    "\n",
    "# def animate(i,offset=start):\n",
    "#     idx = i + offset\n",
    "\n",
    "#     main_ax.clear()\n",
    "#     alt_ax.clear()\n",
    "\n",
    "#     main_ax.set_ylim(0,kWh_max)\n",
    "#     alt_ax.set_ylim(0,np.max(np.array(raw_predictions['encoder_attention'])))\n",
    "#     main_ax.set_ylabel('Electrical Load (kWh)')\n",
    "\n",
    "#     # plot attention manually - taken from source code, https://pytorch-forecasting.readthedocs.io/en/stable/_modules/pytorch_forecasting/models/temporal_fusion_transformer.html#TemporalFusionTransformer.plot_prediction\n",
    "#     encoder_length = x[\"encoder_lengths\"][0]\n",
    "#     interpretation = tft.interpret_output(raw_predictions.iget(slice(idx, idx + 1)))\n",
    "#     alt_ax.plot([-1*i for i in reversed(range(1,encoder_length+1))],interpretation['attention'][0,-encoder_length:], c='k', alpha=0.2)\n",
    "\n",
    "#     tft.plot_prediction(x, raw_predictions, idx=idx, plot_attention=False, add_loss_to_title=True, ax=main_ax)\n",
    "\n",
    "#     prediction_loss = float(main_ax.get_title().split(' ')[1])\n",
    "#     main_ax.set_title(f'Timestep: {idx}' + ' '*4 + 'Loss: ' + f'{prediction_loss:.3f}'.rjust(6), loc='center')\n",
    "\n",
    "#     return *main_ax.get_lines(), *alt_ax.get_lines()\n",
    "\n",
    "# n_frames = 24*14\n",
    "# anim = animation.FuncAnimation(fig, animate, frames=n_frames, interval=200, blit=True)\n",
    "# writer = animation.writers['ffmpeg']()\n",
    "# anim.save('predict_anim.mp4', writer=writer, dpi=100)\n"
   ]
  },
  {
   "cell_type": "code",
   "execution_count": null,
   "metadata": {},
   "outputs": [],
   "source": [
    "import plotly.graph_objects as go\n",
    "from plotly.offline import plot as ply_plot\n",
    "from tqdm.notebook import tqdm\n",
    "\n",
    "duration = 24*7*12\n",
    "idx_start = 0\n",
    "idx_end = idx_start+duration\n",
    "\n",
    "max_encoder_length = 48\n",
    "max_prediction_length = 24\n",
    "kWh_max = 300\n",
    "max_attention = 0.4\n",
    "transition_duration = 0\n",
    "frame_duration = 100\n",
    "\n",
    "prediction_losses = []\n",
    "\n",
    "# make figure\n",
    "fig_dict = {\n",
    "    \"data\": [],\n",
    "    \"layout\": {},\n",
    "    \"frames\": []\n",
    "}\n",
    "\n",
    "# fill in most of layout\n",
    "fig_dict[\"layout\"][\"xaxis\"] = {\"range\": [-1*(max_encoder_length+1), max_prediction_length+2], \"showgrid\":True}\n",
    "fig_dict[\"layout\"][\"hovermode\"] = \"closest\"\n",
    "fig_dict[\"layout\"][\"updatemenus\"] = [\n",
    "    {\n",
    "        \"buttons\": [\n",
    "            {\n",
    "                \"args\": [None, {\"frame\": {\"duration\": frame_duration, \"redraw\": False},\n",
    "                                \"fromcurrent\": True,\n",
    "                                \"transition\": {\"duration\": transition_duration, \"easing\": \"linear\"}\n",
    "                                }],\n",
    "                \"label\": \"Play\",\n",
    "                \"method\": \"animate\"\n",
    "            },\n",
    "            {\n",
    "                \"args\": [[None], {\"frame\": {\"duration\": 0, \"redraw\": False},\n",
    "                                  \"mode\": \"immediate\",\n",
    "                                  \"transition\": {\"duration\": 0}\n",
    "                                    }],\n",
    "                \"label\": \"Pause\",\n",
    "                \"method\": \"animate\"\n",
    "            }\n",
    "        ],\n",
    "        \"direction\": \"left\",\n",
    "        \"pad\": {\"r\": 10, \"t\": 87},\n",
    "        \"showactive\": False,\n",
    "        \"type\": \"buttons\",\n",
    "        \"x\": 0.1,\n",
    "        \"xanchor\": \"right\",\n",
    "        \"y\": 0,\n",
    "        \"yanchor\": \"top\"\n",
    "    }\n",
    "]\n",
    "\n",
    "sliders_dict = {\n",
    "    \"active\": 0,\n",
    "    \"yanchor\": \"top\",\n",
    "    \"xanchor\": \"left\",\n",
    "    \"currentvalue\": {\n",
    "        \"font\": {\"size\": 12},\n",
    "        \"prefix\": \"Timestep: \",\n",
    "        \"visible\": True,\n",
    "        \"xanchor\": \"right\"\n",
    "    },\n",
    "    \"transition\": {\"duration\": transition_duration, \"easing\": \"linear\"},\n",
    "    \"pad\": {\"b\": 10, \"t\": 50},\n",
    "    \"len\": 0.9,\n",
    "    \"x\": 0.1,\n",
    "    \"y\": 0,\n",
    "    \"steps\": []\n",
    "}\n",
    "\n",
    "# make frames\n",
    "for j,idx in tqdm(enumerate(range(idx_start,idx_end+1))):\n",
    "\n",
    "    frame = {\"data\": [], \"name\": str(idx)}\n",
    "\n",
    "    # get encoder length, compute attention\n",
    "    encoder_length = x[\"encoder_lengths\"][0]\n",
    "    interpretation = tft.interpret_output(raw_predictions.iget(slice(idx, idx + 1)))\n",
    "\n",
    "    # outrageously hacky way of computing prediction loss\n",
    "    fig, dummy_ax = plt.subplots()\n",
    "    tft.plot_prediction(x, raw_predictions, idx=idx, plot_attention=False, add_loss_to_title=True, ax=dummy_ax)\n",
    "    prediction_loss = float(dummy_ax.get_title().split(' ')[1])\n",
    "    plt.close(fig)\n",
    "    del fig, dummy_ax\n",
    "    prediction_losses.append(prediction_loss)\n",
    "\n",
    "    # construct plots for each frame\n",
    "    plot_data = [\n",
    "        go.Bar( # prediction loss bar chart\n",
    "            x=[max_prediction_length+1],\n",
    "            y=[prediction_loss],\n",
    "            width=1,\n",
    "            marker=dict(color=\"rgba(244, 50, 12, 1)\"),\n",
    "            name=\"Loss\",\n",
    "            yaxis='y2',\n",
    "        ),\n",
    "\n",
    "        go.Scatter( # p95 area fill\n",
    "            x=list(range(max_prediction_length)),\n",
    "            y=raw_predictions['prediction'][idx,:,0],\n",
    "            mode=\"lines\",\n",
    "            line=dict(color=\"rgba(249, 115, 6, 0.1)\", width=0),\n",
    "            name=\"p95\",\n",
    "            showlegend=False\n",
    "        ),\n",
    "        go.Scatter(\n",
    "            x=list(range(max_prediction_length)),\n",
    "            y=raw_predictions['prediction'][idx,:,6],\n",
    "            mode=\"lines\",\n",
    "            line=dict(color=\"rgba(249, 115, 6, 0.1)\", width=0),\n",
    "            name=\"p95\",\n",
    "            fill='tonexty'\n",
    "        ),\n",
    "        go.Scatter( # p80 area fill\n",
    "            x=list(range(max_prediction_length)),\n",
    "            y=raw_predictions['prediction'][idx,:,1],\n",
    "            mode=\"lines\",\n",
    "            line=dict(color=\"rgba(249, 115, 6, 0.2)\", width=0),\n",
    "            name=\"p80\",\n",
    "            showlegend=False\n",
    "        ),\n",
    "        go.Scatter(\n",
    "            x=list(range(max_prediction_length)),\n",
    "            y=raw_predictions['prediction'][idx,:,5],\n",
    "            mode=\"lines\",\n",
    "            line=dict(color=\"rgba(249, 115, 6, 0.2)\", width=0),\n",
    "            name=\"p80\",\n",
    "            fill='tonexty'\n",
    "        ),\n",
    "        go.Scatter( # p50 area fill\n",
    "            x=list(range(max_prediction_length)),\n",
    "            y=raw_predictions['prediction'][idx,:,2],\n",
    "            mode=\"lines\",\n",
    "            line=dict(color=\"rgba(249, 115, 6, 0.4)\", width=0),\n",
    "            name=\"p50\",\n",
    "            showlegend=False\n",
    "        ),\n",
    "        go.Scatter(\n",
    "            x=list(range(max_prediction_length)),\n",
    "            y=raw_predictions['prediction'][idx,:,4],\n",
    "            mode=\"lines\",\n",
    "            line=dict(color=\"rgba(249, 115, 6, 0.4)\", width=0),\n",
    "            name=\"p50\",\n",
    "            fill='tonexty'\n",
    "        ),\n",
    "\n",
    "        go.Scatter( # encoder attention\n",
    "            x=[-1*i for i in reversed(range(1,encoder_length+1))],\n",
    "            y=interpretation['attention'][0,-encoder_length:],\n",
    "            mode=\"lines\",\n",
    "            line=dict(color=\"rgba(63, 155, 11, 0.5)\", width=2),\n",
    "            yaxis='y3',\n",
    "            name=\"Attention\"\n",
    "        ),\n",
    "        go.Scatter( # decoder target\n",
    "            x=list(range(max_prediction_length)),\n",
    "            y=x['decoder_target'][idx],\n",
    "            mode=\"lines\",\n",
    "            line=dict(color=\"rgba(1, 21, 62, 1)\", width=2),\n",
    "            legendgroup=\"target\",\n",
    "            name=\"Target\"\n",
    "        ),\n",
    "        go.Scatter( # encoder target\n",
    "            x=[-1*i for i in reversed(range(1,encoder_length+1))],\n",
    "            y=x['encoder_target'][idx],\n",
    "            mode=\"lines\",\n",
    "            line=dict(color=\"rgba(1, 21, 62, 1)\", width=2),\n",
    "            legendgroup=\"target\",\n",
    "            showlegend=False,\n",
    "            name=\"Target\"\n",
    "        ),\n",
    "\n",
    "        go.Scatter( # mean prediction\n",
    "            x=list(range(max_prediction_length)),\n",
    "            y=raw_predictions['prediction'][idx,:,3],\n",
    "            mode=\"lines\",\n",
    "            line=dict(color=\"rgba(117,187,253, 1)\", width=2),\n",
    "            name=\"Mean prediction\"\n",
    "        ),\n",
    "    ]\n",
    "\n",
    "    if j == 0: # set initial data to plot\n",
    "        fig_dict[\"data\"] = plot_data\n",
    "\n",
    "    frame = go.Frame(\n",
    "        data=plot_data,\n",
    "        name=str(idx),\n",
    "    )\n",
    "\n",
    "    fig_dict[\"frames\"].append(frame)\n",
    "\n",
    "    slider_step = {\"args\": [\n",
    "        [idx],\n",
    "        {\"frame\": {\"duration\": transition_duration, \"redraw\": False},\n",
    "            \"mode\": \"immediate\",\n",
    "            \"transition\": {\"duration\": transition_duration},\n",
    "        }\n",
    "        ],\n",
    "        \"label\": idx,\n",
    "        \"method\": \"animate\"\n",
    "    }\n",
    "    sliders_dict[\"steps\"].append(slider_step)\n",
    "\n",
    "fig_dict[\"layout\"][\"sliders\"] = [sliders_dict]\n",
    "\n",
    "fig = go.Figure(fig_dict)\n",
    "\n",
    "fig.update_layout(\n",
    "    yaxis=dict(\n",
    "        title=\"Electrical Load (kWh)\",\n",
    "        range=[0,kWh_max],\n",
    "        side=\"left\"\n",
    "    ),\n",
    "    yaxis2=dict(\n",
    "        title=\"Prediction Loss\",\n",
    "        range=[0,2.5*np.mean(prediction_losses)],\n",
    "        anchor=\"x\",\n",
    "        overlaying=\"y\",\n",
    "        side=\"right\",\n",
    "        tickmode=\"sync\"\n",
    "    ),\n",
    "    yaxis3=dict(\n",
    "        title=\"Attention\",\n",
    "        range=[0,max_attention],\n",
    "        anchor=\"free\",\n",
    "        overlaying=\"y\",\n",
    "        #side=\"left\",\n",
    "        showgrid=False,\n",
    "        autoshift=True\n",
    "    ),\n",
    "    legend=dict(\n",
    "        traceorder=\"reversed\",\n",
    "        orientation=\"h\",\n",
    "        yanchor=\"bottom\",\n",
    "        y=1.02,\n",
    "        xanchor=\"right\",\n",
    "        x=1\n",
    "    )\n",
    ")\n",
    "\n",
    "ply_plot(\n",
    "    fig,\n",
    "    filename='temp.html',\n",
    "    auto_open=False,\n",
    "    auto_play=False\n",
    ")\n",
    "\n",
    "fig.show()"
   ]
  },
  {
   "attachments": {},
   "cell_type": "markdown",
   "metadata": {},
   "source": [
    "Try predicting on explicitly passed data as we will need to do for the forecasting"
   ]
  },
  {
   "cell_type": "code",
   "execution_count": 31,
   "metadata": {},
   "outputs": [],
   "source": [
    "data_slice = val_data.iloc[1242:1314]\n",
    "data_slice.iloc[-24:,data_slice.columns.get_loc('Equipment Electric Power [kWh]')] = 0\n",
    "explicit_dataset = TimeSeriesDataSet.from_dataset(training, data_slice)"
   ]
  },
  {
   "attachments": {},
   "cell_type": "markdown",
   "metadata": {},
   "source": [
    "Note: because this model has known covariates over the prediction horizon, the explicit dataset we pass needs to have a length of `max_encoder_length`+`max_prediction_length`, but the target series values over the prediction horizons are (obviously) not used, so any values can be placed here (e.g. set to zero)"
   ]
  },
  {
   "cell_type": "code",
   "execution_count": 32,
   "metadata": {},
   "outputs": [
    {
     "data": {
      "text/html": [
       "<div>\n",
       "<style scoped>\n",
       "    .dataframe tbody tr th:only-of-type {\n",
       "        vertical-align: middle;\n",
       "    }\n",
       "\n",
       "    .dataframe tbody tr th {\n",
       "        vertical-align: top;\n",
       "    }\n",
       "\n",
       "    .dataframe thead th {\n",
       "        text-align: right;\n",
       "    }\n",
       "</style>\n",
       "<table border=\"1\" class=\"dataframe\">\n",
       "  <thead>\n",
       "    <tr style=\"text-align: right;\">\n",
       "      <th></th>\n",
       "      <th>time_idx</th>\n",
       "      <th>Month</th>\n",
       "      <th>Hour</th>\n",
       "      <th>Day Type</th>\n",
       "      <th>Daylight Savings Status</th>\n",
       "      <th>Indoor Temperature [C]</th>\n",
       "      <th>Average Unmet Cooling Setpoint Difference [C]</th>\n",
       "      <th>Indoor Relative Humidity [%]</th>\n",
       "      <th>Equipment Electric Power [kWh]</th>\n",
       "      <th>DHW Heating [kWh]</th>\n",
       "      <th>Cooling Load [kWh]</th>\n",
       "      <th>Heating Load [kWh]</th>\n",
       "      <th>Solar Generation [W/kW]</th>\n",
       "      <th>ts_id</th>\n",
       "    </tr>\n",
       "  </thead>\n",
       "  <tbody>\n",
       "    <tr>\n",
       "      <th>1242</th>\n",
       "      <td>1242</td>\n",
       "      <td>2</td>\n",
       "      <td>18</td>\n",
       "      <td>1</td>\n",
       "      <td>0</td>\n",
       "      <td>NaN</td>\n",
       "      <td>NaN</td>\n",
       "      <td>NaN</td>\n",
       "      <td>73.9</td>\n",
       "      <td>0</td>\n",
       "      <td>0</td>\n",
       "      <td>0</td>\n",
       "      <td>0.0</td>\n",
       "      <td>b5</td>\n",
       "    </tr>\n",
       "    <tr>\n",
       "      <th>1243</th>\n",
       "      <td>1243</td>\n",
       "      <td>2</td>\n",
       "      <td>19</td>\n",
       "      <td>1</td>\n",
       "      <td>0</td>\n",
       "      <td>NaN</td>\n",
       "      <td>NaN</td>\n",
       "      <td>NaN</td>\n",
       "      <td>75.8</td>\n",
       "      <td>0</td>\n",
       "      <td>0</td>\n",
       "      <td>0</td>\n",
       "      <td>0.0</td>\n",
       "      <td>b5</td>\n",
       "    </tr>\n",
       "    <tr>\n",
       "      <th>1244</th>\n",
       "      <td>1244</td>\n",
       "      <td>2</td>\n",
       "      <td>20</td>\n",
       "      <td>1</td>\n",
       "      <td>0</td>\n",
       "      <td>NaN</td>\n",
       "      <td>NaN</td>\n",
       "      <td>NaN</td>\n",
       "      <td>74.1</td>\n",
       "      <td>0</td>\n",
       "      <td>0</td>\n",
       "      <td>0</td>\n",
       "      <td>0.0</td>\n",
       "      <td>b5</td>\n",
       "    </tr>\n",
       "    <tr>\n",
       "      <th>1245</th>\n",
       "      <td>1245</td>\n",
       "      <td>2</td>\n",
       "      <td>21</td>\n",
       "      <td>1</td>\n",
       "      <td>0</td>\n",
       "      <td>NaN</td>\n",
       "      <td>NaN</td>\n",
       "      <td>NaN</td>\n",
       "      <td>71.5</td>\n",
       "      <td>0</td>\n",
       "      <td>0</td>\n",
       "      <td>0</td>\n",
       "      <td>0.0</td>\n",
       "      <td>b5</td>\n",
       "    </tr>\n",
       "    <tr>\n",
       "      <th>1246</th>\n",
       "      <td>1246</td>\n",
       "      <td>2</td>\n",
       "      <td>22</td>\n",
       "      <td>1</td>\n",
       "      <td>0</td>\n",
       "      <td>NaN</td>\n",
       "      <td>NaN</td>\n",
       "      <td>NaN</td>\n",
       "      <td>71.8</td>\n",
       "      <td>0</td>\n",
       "      <td>0</td>\n",
       "      <td>0</td>\n",
       "      <td>0.0</td>\n",
       "      <td>b5</td>\n",
       "    </tr>\n",
       "    <tr>\n",
       "      <th>...</th>\n",
       "      <td>...</td>\n",
       "      <td>...</td>\n",
       "      <td>...</td>\n",
       "      <td>...</td>\n",
       "      <td>...</td>\n",
       "      <td>...</td>\n",
       "      <td>...</td>\n",
       "      <td>...</td>\n",
       "      <td>...</td>\n",
       "      <td>...</td>\n",
       "      <td>...</td>\n",
       "      <td>...</td>\n",
       "      <td>...</td>\n",
       "      <td>...</td>\n",
       "    </tr>\n",
       "    <tr>\n",
       "      <th>1309</th>\n",
       "      <td>1309</td>\n",
       "      <td>2</td>\n",
       "      <td>13</td>\n",
       "      <td>4</td>\n",
       "      <td>0</td>\n",
       "      <td>NaN</td>\n",
       "      <td>NaN</td>\n",
       "      <td>NaN</td>\n",
       "      <td>0.0</td>\n",
       "      <td>0</td>\n",
       "      <td>0</td>\n",
       "      <td>0</td>\n",
       "      <td>689.0</td>\n",
       "      <td>b5</td>\n",
       "    </tr>\n",
       "    <tr>\n",
       "      <th>1310</th>\n",
       "      <td>1310</td>\n",
       "      <td>2</td>\n",
       "      <td>14</td>\n",
       "      <td>4</td>\n",
       "      <td>0</td>\n",
       "      <td>NaN</td>\n",
       "      <td>NaN</td>\n",
       "      <td>NaN</td>\n",
       "      <td>0.0</td>\n",
       "      <td>0</td>\n",
       "      <td>0</td>\n",
       "      <td>0</td>\n",
       "      <td>623.0</td>\n",
       "      <td>b5</td>\n",
       "    </tr>\n",
       "    <tr>\n",
       "      <th>1311</th>\n",
       "      <td>1311</td>\n",
       "      <td>2</td>\n",
       "      <td>15</td>\n",
       "      <td>4</td>\n",
       "      <td>0</td>\n",
       "      <td>NaN</td>\n",
       "      <td>NaN</td>\n",
       "      <td>NaN</td>\n",
       "      <td>0.0</td>\n",
       "      <td>0</td>\n",
       "      <td>0</td>\n",
       "      <td>0</td>\n",
       "      <td>505.0</td>\n",
       "      <td>b5</td>\n",
       "    </tr>\n",
       "    <tr>\n",
       "      <th>1312</th>\n",
       "      <td>1312</td>\n",
       "      <td>2</td>\n",
       "      <td>16</td>\n",
       "      <td>4</td>\n",
       "      <td>0</td>\n",
       "      <td>NaN</td>\n",
       "      <td>NaN</td>\n",
       "      <td>NaN</td>\n",
       "      <td>0.0</td>\n",
       "      <td>0</td>\n",
       "      <td>0</td>\n",
       "      <td>0</td>\n",
       "      <td>217.0</td>\n",
       "      <td>b5</td>\n",
       "    </tr>\n",
       "    <tr>\n",
       "      <th>1313</th>\n",
       "      <td>1313</td>\n",
       "      <td>2</td>\n",
       "      <td>17</td>\n",
       "      <td>4</td>\n",
       "      <td>0</td>\n",
       "      <td>NaN</td>\n",
       "      <td>NaN</td>\n",
       "      <td>NaN</td>\n",
       "      <td>0.0</td>\n",
       "      <td>0</td>\n",
       "      <td>0</td>\n",
       "      <td>0</td>\n",
       "      <td>0.0</td>\n",
       "      <td>b5</td>\n",
       "    </tr>\n",
       "  </tbody>\n",
       "</table>\n",
       "<p>72 rows × 14 columns</p>\n",
       "</div>"
      ],
      "text/plain": [
       "      time_idx Month Hour Day Type Daylight Savings Status  \\\n",
       "1242      1242     2   18        1                       0   \n",
       "1243      1243     2   19        1                       0   \n",
       "1244      1244     2   20        1                       0   \n",
       "1245      1245     2   21        1                       0   \n",
       "1246      1246     2   22        1                       0   \n",
       "...        ...   ...  ...      ...                     ...   \n",
       "1309      1309     2   13        4                       0   \n",
       "1310      1310     2   14        4                       0   \n",
       "1311      1311     2   15        4                       0   \n",
       "1312      1312     2   16        4                       0   \n",
       "1313      1313     2   17        4                       0   \n",
       "\n",
       "      Indoor Temperature [C]  Average Unmet Cooling Setpoint Difference [C]  \\\n",
       "1242                     NaN                                            NaN   \n",
       "1243                     NaN                                            NaN   \n",
       "1244                     NaN                                            NaN   \n",
       "1245                     NaN                                            NaN   \n",
       "1246                     NaN                                            NaN   \n",
       "...                      ...                                            ...   \n",
       "1309                     NaN                                            NaN   \n",
       "1310                     NaN                                            NaN   \n",
       "1311                     NaN                                            NaN   \n",
       "1312                     NaN                                            NaN   \n",
       "1313                     NaN                                            NaN   \n",
       "\n",
       "      Indoor Relative Humidity [%]  Equipment Electric Power [kWh]  \\\n",
       "1242                           NaN                            73.9   \n",
       "1243                           NaN                            75.8   \n",
       "1244                           NaN                            74.1   \n",
       "1245                           NaN                            71.5   \n",
       "1246                           NaN                            71.8   \n",
       "...                            ...                             ...   \n",
       "1309                           NaN                             0.0   \n",
       "1310                           NaN                             0.0   \n",
       "1311                           NaN                             0.0   \n",
       "1312                           NaN                             0.0   \n",
       "1313                           NaN                             0.0   \n",
       "\n",
       "      DHW Heating [kWh]  Cooling Load [kWh]  Heating Load [kWh]  \\\n",
       "1242                  0                   0                   0   \n",
       "1243                  0                   0                   0   \n",
       "1244                  0                   0                   0   \n",
       "1245                  0                   0                   0   \n",
       "1246                  0                   0                   0   \n",
       "...                 ...                 ...                 ...   \n",
       "1309                  0                   0                   0   \n",
       "1310                  0                   0                   0   \n",
       "1311                  0                   0                   0   \n",
       "1312                  0                   0                   0   \n",
       "1313                  0                   0                   0   \n",
       "\n",
       "      Solar Generation [W/kW] ts_id  \n",
       "1242                      0.0    b5  \n",
       "1243                      0.0    b5  \n",
       "1244                      0.0    b5  \n",
       "1245                      0.0    b5  \n",
       "1246                      0.0    b5  \n",
       "...                       ...   ...  \n",
       "1309                    689.0    b5  \n",
       "1310                    623.0    b5  \n",
       "1311                    505.0    b5  \n",
       "1312                    217.0    b5  \n",
       "1313                      0.0    b5  \n",
       "\n",
       "[72 rows x 14 columns]"
      ]
     },
     "execution_count": 32,
     "metadata": {},
     "output_type": "execute_result"
    }
   ],
   "source": [
    "data_slice"
   ]
  },
  {
   "cell_type": "code",
   "execution_count": 33,
   "metadata": {},
   "outputs": [],
   "source": [
    "slice_predictions = tft.predict(explicit_dataset, mode='prediction')"
   ]
  },
  {
   "cell_type": "code",
   "execution_count": 34,
   "metadata": {},
   "outputs": [
    {
     "name": "stdout",
     "output_type": "stream",
     "text": [
      "tensor([[205.5509, 184.5760, 167.6945,  87.0219,  60.4790,  58.5570,  58.6357,\n",
      "          57.1208,  60.3246,  65.1739, 102.9172, 114.5882, 113.4695, 122.3041,\n",
      "         190.3150, 216.3943, 227.3048, 230.6091, 232.9309, 231.7788, 230.2433,\n",
      "         228.6533, 223.3952, 212.9826]])\n"
     ]
    }
   ],
   "source": [
    "print(slice_predictions)"
   ]
  },
  {
   "cell_type": "code",
   "execution_count": null,
   "metadata": {},
   "outputs": [],
   "source": []
  }
 ],
 "metadata": {
  "kernelspec": {
   "display_name": "Annex37",
   "language": "python",
   "name": "python3"
  },
  "language_info": {
   "codemirror_mode": {
    "name": "ipython",
    "version": 3
   },
   "file_extension": ".py",
   "mimetype": "text/x-python",
   "name": "python",
   "nbconvert_exporter": "python",
   "pygments_lexer": "ipython3",
   "version": "3.8.16"
  },
  "orig_nbformat": 4
 },
 "nbformat": 4,
 "nbformat_minor": 2
}
