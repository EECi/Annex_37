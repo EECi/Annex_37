{
 "cells": [
  {
   "cell_type": "code",
   "execution_count": 48,
   "metadata": {},
   "outputs": [],
   "source": [
    "import os\n",
    "from models.TFT.TFT_predictor import TFT_Predictor"
   ]
  },
  {
   "cell_type": "code",
   "execution_count": 49,
   "metadata": {},
   "outputs": [
    {
     "name": "stderr",
     "output_type": "stream",
     "text": [
      "/Users/max/Documents/PhD/Research/3 - Annex 37 CityLearn project/Annex_37/models/TFT/TFT_predictor.py:86: UserWarning: Warning: A log directory for this model group name (test) already exists but you are not loading it.\n",
      "  warnings.warn(f\"Warning: A log directory for this model group name ({model_group_name}) already exists but you are not loading it.\")\n"
     ]
    }
   ],
   "source": [
    "TFT_pred = TFT_Predictor(model_group_name='test',load=False)"
   ]
  },
  {
   "cell_type": "code",
   "execution_count": 50,
   "metadata": {},
   "outputs": [
    {
     "name": "stderr",
     "output_type": "stream",
     "text": [
      "/Users/max/opt/anaconda3/envs/Annex37/lib/python3.8/site-packages/pytorch_forecasting/data/encoders.py:471: DeprecationWarning: `np.float` is a deprecated alias for the builtin `float`. To silence this warning, use `float` by itself. Doing this will not modify any behavior and is safe. If you specifically wanted the numpy scalar type, use `np.float64` here.\n",
      "Deprecated in NumPy 1.20; for more details and guidance: https://numpy.org/devdocs/release/1.20.0-notes.html#deprecations\n",
      "  eps = np.finfo(np.float).eps\n",
      "/Users/max/opt/anaconda3/envs/Annex37/lib/python3.8/site-packages/pytorch_forecasting/data/encoders.py:788: DeprecationWarning: `np.float` is a deprecated alias for the builtin `float`. To silence this warning, use `float` by itself. Doing this will not modify any behavior and is safe. If you specifically wanted the numpy scalar type, use `np.float64` here.\n",
      "Deprecated in NumPy 1.20; for more details and guidance: https://numpy.org/devdocs/release/1.20.0-notes.html#deprecations\n",
      "  eps = np.finfo(np.float).eps\n"
     ]
    }
   ],
   "source": [
    "train_path = os.path.join('data','example','train')\n",
    "val_path = os.path.join('data','example','validate')\n",
    "train_df,val_df = TFT_pred.format_CityLearn_datasets([train_path,val_path], model_type='load', building_index=0)"
   ]
  },
  {
   "cell_type": "code",
   "execution_count": 51,
   "metadata": {},
   "outputs": [
    {
     "name": "stdout",
     "output_type": "stream",
     "text": [
      "{'hidden_size': 48, 'attention_head_size': 4, 'dropout': 0.1, 'hidden_continuous_size': 16, 'loss': QuantileLoss(quantiles=[0.02, 0.1, 0.25, 0.5, 0.75, 0.9, 0.98]), 'optimizer': 'adam', 'reduce_on_plateau_patience': 5}\n"
     ]
    },
    {
     "name": "stderr",
     "output_type": "stream",
     "text": [
      "/Users/max/opt/anaconda3/envs/Annex37/lib/python3.8/site-packages/pytorch_lightning/utilities/parsing.py:269: UserWarning: Attribute 'loss' is an instance of `nn.Module` and is already saved during checkpointing. It is recommended to ignore them using `self.save_hyperparameters(ignore=['loss'])`.\n",
      "  rank_zero_warn(\n",
      "/Users/max/opt/anaconda3/envs/Annex37/lib/python3.8/site-packages/pytorch_lightning/utilities/parsing.py:269: UserWarning: Attribute 'logging_metrics' is an instance of `nn.Module` and is already saved during checkpointing. It is recommended to ignore them using `self.save_hyperparameters(ignore=['logging_metrics'])`.\n",
      "  rank_zero_warn(\n"
     ]
    }
   ],
   "source": [
    "tft_model = TFT_pred.new_model('load_5','load',train_df)"
   ]
  },
  {
   "cell_type": "code",
   "execution_count": 66,
   "metadata": {},
   "outputs": [
    {
     "data": {
      "text/plain": [
       "dict_keys(['hidden_size', 'lstm_layers', 'dropout', 'output_size', 'loss', 'attention_head_size', 'max_encoder_length', 'static_categoricals', 'static_reals', 'time_varying_categoricals_encoder', 'time_varying_categoricals_decoder', 'categorical_groups', 'time_varying_reals_encoder', 'time_varying_reals_decoder', 'x_reals', 'x_categoricals', 'hidden_continuous_size', 'hidden_continuous_sizes', 'embedding_sizes', 'embedding_paddings', 'embedding_labels', 'learning_rate', 'log_interval', 'log_val_interval', 'log_gradient_flow', 'reduce_on_plateau_patience', 'monotone_constaints', 'share_single_variable_networks', 'causal_attention', 'logging_metrics', 'optimizer', 'output_transformer', 'reduce_on_plateau_reduction', 'reduce_on_plateau_min_lr', 'weight_decay', 'optimizer_params'])"
      ]
     },
     "execution_count": 66,
     "metadata": {},
     "output_type": "execute_result"
    }
   ],
   "source": [
    "tft_model.hparams.keys()"
   ]
  },
  {
   "cell_type": "code",
   "execution_count": 52,
   "metadata": {},
   "outputs": [
    {
     "name": "stderr",
     "output_type": "stream",
     "text": [
      "GPU available: False, used: False\n",
      "TPU available: False, using: 0 TPU cores\n",
      "IPU available: False, using: 0 IPUs\n",
      "HPU available: False, using: 0 HPUs\n"
     ]
    }
   ],
   "source": [
    "TFT_pred.train('load_5','load',train_df,val_df)"
   ]
  },
  {
   "cell_type": "code",
   "execution_count": null,
   "metadata": {},
   "outputs": [],
   "source": [
    "from citylearn.citylearn import CityLearnEnv\n",
    "env = CityLearnEnv(os.path.join(val_path,'schema.json'))\n",
    "t = 7720"
   ]
  },
  {
   "cell_type": "code",
   "execution_count": null,
   "metadata": {},
   "outputs": [],
   "source": []
  }
 ],
 "metadata": {
  "kernelspec": {
   "display_name": "Annex37",
   "language": "python",
   "name": "python3"
  },
  "language_info": {
   "codemirror_mode": {
    "name": "ipython",
    "version": 3
   },
   "file_extension": ".py",
   "mimetype": "text/x-python",
   "name": "python",
   "nbconvert_exporter": "python",
   "pygments_lexer": "ipython3",
   "version": "3.8.16"
  },
  "orig_nbformat": 4
 },
 "nbformat": 4,
 "nbformat_minor": 2
}
