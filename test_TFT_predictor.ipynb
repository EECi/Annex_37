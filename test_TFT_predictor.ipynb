{
 "cells": [
  {
   "cell_type": "code",
   "execution_count": 1,
   "metadata": {},
   "outputs": [],
   "source": [
    "import os\n",
    "import json\n",
    "from models.TFT.TFT_predictor import TFT_Predictor"
   ]
  },
  {
   "cell_type": "code",
   "execution_count": 2,
   "metadata": {},
   "outputs": [
    {
     "name": "stderr",
     "output_type": "stream",
     "text": [
      "c:\\Users\\mal84\\Repositories\\Annex_37\\models\\TFT\\TFT_predictor.py:106: UserWarning: Warning: A log directory for this model group name (test) already exists but you are not loading it.\n",
      "  warnings.warn(f\"Warning: A log directory for this model group name ({model_group_name}) already exists but you are not loading it.\")\n",
      "c:\\Users\\mal84\\Repositories\\Annex_37\\models\\TFT\\TFT_predictor.py:110: UserWarning: Warning: Model group metadata overwritten.\n",
      "  if os.path.exists(group_mparams_path): warnings.warn(\"Warning: Model group metadata overwritten.\")\n",
      "Global seed set to 42\n"
     ]
    }
   ],
   "source": [
    "TFT_pred = TFT_Predictor(model_group_name='test',load=False)"
   ]
  },
  {
   "cell_type": "code",
   "execution_count": 3,
   "metadata": {},
   "outputs": [],
   "source": [
    "train_path = os.path.join('data','example','train')\n",
    "val_path = os.path.join('data','example','validate')\n",
    "with open(os.path.join(train_path,'metadata_ext.json')) as json_file:\n",
    "    UCam_ids = json.load(json_file)[\"UCam_building_ids\"]"
   ]
  },
  {
   "cell_type": "code",
   "execution_count": 4,
   "metadata": {},
   "outputs": [
    {
     "name": "stderr",
     "output_type": "stream",
     "text": [
      "c:\\Users\\mal84\\Repositories\\Annex_37\\models\\TFT\\TFT_predictor.py:262: UserWarning: Warning: A logs directory already exists for the model name `load_test`. By continuing you will overwrite this model.\n",
      "  warnings.warn(f\"Warning: A logs directory already exists for the model name `{model_name}`. By continuing you will overwrite this model.\")\n",
      "c:\\Users\\mal84\\.conda\\envs\\Annex37\\lib\\site-packages\\lightning\\pytorch\\utilities\\parsing.py:197: UserWarning: Attribute 'loss' is an instance of `nn.Module` and is already saved during checkpointing. It is recommended to ignore them using `self.save_hyperparameters(ignore=['loss'])`.\n",
      "  rank_zero_warn(\n",
      "c:\\Users\\mal84\\.conda\\envs\\Annex37\\lib\\site-packages\\lightning\\pytorch\\utilities\\parsing.py:197: UserWarning: Attribute 'logging_metrics' is an instance of `nn.Module` and is already saved during checkpointing. It is recommended to ignore them using `self.save_hyperparameters(ignore=['logging_metrics'])`.\n",
      "  rank_zero_warn(\n",
      "GPU available: False, used: False\n",
      "TPU available: False, using: 0 TPU cores\n",
      "IPU available: False, using: 0 IPUs\n",
      "HPU available: False, using: 0 HPUs\n"
     ]
    },
    {
     "ename": "TypeError",
     "evalue": "`model` must be a `LightningModule`, got `TemporalFusionTransformer`",
     "output_type": "error",
     "traceback": [
      "\u001b[1;31m---------------------------------------------------------------------------\u001b[0m",
      "\u001b[1;31mTypeError\u001b[0m                                 Traceback (most recent call last)",
      "Cell \u001b[1;32mIn[4], line 6\u001b[0m\n\u001b[0;32m      4\u001b[0m train_ds,val_ds \u001b[39m=\u001b[39m TFT_pred\u001b[39m.\u001b[39mformat_CityLearn_datasets([train_path,val_path], model_type\u001b[39m=\u001b[39mmodel_type, building_index\u001b[39m=\u001b[39mi)\n\u001b[0;32m      5\u001b[0m tft_model \u001b[39m=\u001b[39m TFT_pred\u001b[39m.\u001b[39mnew_model(model_name,model_type,train_ds)\n\u001b[1;32m----> 6\u001b[0m TFT_pred\u001b[39m.\u001b[39;49mtrain_model(model_name,model_type,train_ds,val_ds)\n",
      "File \u001b[1;32mc:\\Users\\mal84\\Repositories\\Annex_37\\models\\TFT\\TFT_predictor.py:346\u001b[0m, in \u001b[0;36mTFT_Predictor.train_model\u001b[1;34m(self, model_name, model_type, train_dataset, val_dataset, **kwargs)\u001b[0m\n\u001b[0;32m    344\u001b[0m \u001b[39m# Tune learning rate.\u001b[39;00m\n\u001b[0;32m    345\u001b[0m tuner \u001b[39m=\u001b[39m Tuner(trainer)\n\u001b[1;32m--> 346\u001b[0m lr_finder \u001b[39m=\u001b[39m tuner\u001b[39m.\u001b[39;49mlr_find(model, train_dataloader, val_dataloader, min_lr\u001b[39m=\u001b[39;49m\u001b[39m1e-6\u001b[39;49m, max_lr\u001b[39m=\u001b[39;49m\u001b[39m1e-1\u001b[39;49m)\n\u001b[0;32m    347\u001b[0m lr \u001b[39m=\u001b[39m lr_finder\u001b[39m.\u001b[39msuggestion()\n\u001b[0;32m    348\u001b[0m model\u001b[39m.\u001b[39mlearning_rate \u001b[39m=\u001b[39m lr\n",
      "File \u001b[1;32mc:\\Users\\mal84\\.conda\\envs\\Annex37\\lib\\site-packages\\pytorch_lightning\\tuner\\tuning.py:175\u001b[0m, in \u001b[0;36mTuner.lr_find\u001b[1;34m(self, model, train_dataloaders, val_dataloaders, dataloaders, datamodule, method, min_lr, max_lr, num_training, mode, early_stop_threshold, update_attr, attr_name)\u001b[0m\n\u001b[0;32m    172\u001b[0m lr_finder_callback\u001b[39m.\u001b[39m_early_exit \u001b[39m=\u001b[39m \u001b[39mTrue\u001b[39;00m\n\u001b[0;32m    173\u001b[0m \u001b[39mself\u001b[39m\u001b[39m.\u001b[39m_trainer\u001b[39m.\u001b[39mcallbacks \u001b[39m=\u001b[39m [lr_finder_callback] \u001b[39m+\u001b[39m \u001b[39mself\u001b[39m\u001b[39m.\u001b[39m_trainer\u001b[39m.\u001b[39mcallbacks\n\u001b[1;32m--> 175\u001b[0m \u001b[39mself\u001b[39;49m\u001b[39m.\u001b[39;49m_trainer\u001b[39m.\u001b[39;49mfit(model, train_dataloaders, val_dataloaders, datamodule)\n\u001b[0;32m    177\u001b[0m \u001b[39mself\u001b[39m\u001b[39m.\u001b[39m_trainer\u001b[39m.\u001b[39mcallbacks \u001b[39m=\u001b[39m [cb \u001b[39mfor\u001b[39;00m cb \u001b[39min\u001b[39;00m \u001b[39mself\u001b[39m\u001b[39m.\u001b[39m_trainer\u001b[39m.\u001b[39mcallbacks \u001b[39mif\u001b[39;00m cb \u001b[39mis\u001b[39;00m \u001b[39mnot\u001b[39;00m lr_finder_callback]\n\u001b[0;32m    179\u001b[0m \u001b[39mreturn\u001b[39;00m lr_finder_callback\u001b[39m.\u001b[39moptimal_lr\n",
      "File \u001b[1;32mc:\\Users\\mal84\\.conda\\envs\\Annex37\\lib\\site-packages\\pytorch_lightning\\trainer\\trainer.py:518\u001b[0m, in \u001b[0;36mTrainer.fit\u001b[1;34m(self, model, train_dataloaders, val_dataloaders, datamodule, ckpt_path)\u001b[0m\n\u001b[0;32m    489\u001b[0m \u001b[39mdef\u001b[39;00m \u001b[39mfit\u001b[39m(\n\u001b[0;32m    490\u001b[0m     \u001b[39mself\u001b[39m,\n\u001b[0;32m    491\u001b[0m     model: \u001b[39m\"\u001b[39m\u001b[39mpl.LightningModule\u001b[39m\u001b[39m\"\u001b[39m,\n\u001b[1;32m   (...)\u001b[0m\n\u001b[0;32m    495\u001b[0m     ckpt_path: Optional[\u001b[39mstr\u001b[39m] \u001b[39m=\u001b[39m \u001b[39mNone\u001b[39;00m,\n\u001b[0;32m    496\u001b[0m ) \u001b[39m-\u001b[39m\u001b[39m>\u001b[39m \u001b[39mNone\u001b[39;00m:\n\u001b[0;32m    497\u001b[0m \u001b[39m    \u001b[39m\u001b[39mr\u001b[39m\u001b[39m\"\"\"\u001b[39;00m\n\u001b[0;32m    498\u001b[0m \u001b[39m    Runs the full optimization routine.\u001b[39;00m\n\u001b[0;32m    499\u001b[0m \n\u001b[1;32m   (...)\u001b[0m\n\u001b[0;32m    516\u001b[0m \u001b[39m    For more information about multiple dataloaders, see this :ref:`section <multiple-dataloaders>`.\u001b[39;00m\n\u001b[0;32m    517\u001b[0m \u001b[39m    \"\"\"\u001b[39;00m\n\u001b[1;32m--> 518\u001b[0m     model \u001b[39m=\u001b[39m _maybe_unwrap_optimized(model)\n\u001b[0;32m    519\u001b[0m     \u001b[39mself\u001b[39m\u001b[39m.\u001b[39mstrategy\u001b[39m.\u001b[39m_lightning_module \u001b[39m=\u001b[39m model\n\u001b[0;32m    520\u001b[0m     call\u001b[39m.\u001b[39m_call_and_handle_interrupt(\n\u001b[0;32m    521\u001b[0m         \u001b[39mself\u001b[39m, \u001b[39mself\u001b[39m\u001b[39m.\u001b[39m_fit_impl, model, train_dataloaders, val_dataloaders, datamodule, ckpt_path\n\u001b[0;32m    522\u001b[0m     )\n",
      "File \u001b[1;32mc:\\Users\\mal84\\.conda\\envs\\Annex37\\lib\\site-packages\\pytorch_lightning\\utilities\\compile.py:117\u001b[0m, in \u001b[0;36m_maybe_unwrap_optimized\u001b[1;34m(model)\u001b[0m\n\u001b[0;32m    115\u001b[0m \u001b[39mif\u001b[39;00m \u001b[39mnot\u001b[39;00m _TORCH_GREATER_EQUAL_2_0:\n\u001b[0;32m    116\u001b[0m     \u001b[39mif\u001b[39;00m \u001b[39mnot\u001b[39;00m \u001b[39misinstance\u001b[39m(model, pl\u001b[39m.\u001b[39mLightningModule):\n\u001b[1;32m--> 117\u001b[0m         \u001b[39mraise\u001b[39;00m \u001b[39mTypeError\u001b[39;00m(\u001b[39mf\u001b[39m\u001b[39m\"\u001b[39m\u001b[39m`model` must be a `LightningModule`, got `\u001b[39m\u001b[39m{\u001b[39;00m\u001b[39mtype\u001b[39m(model)\u001b[39m.\u001b[39m\u001b[39m__qualname__\u001b[39m\u001b[39m}\u001b[39;00m\u001b[39m`\u001b[39m\u001b[39m\"\u001b[39m)\n\u001b[0;32m    118\u001b[0m     \u001b[39mreturn\u001b[39;00m model\n\u001b[0;32m    119\u001b[0m \u001b[39mfrom\u001b[39;00m \u001b[39mtorch\u001b[39;00m\u001b[39m.\u001b[39;00m\u001b[39m_dynamo\u001b[39;00m \u001b[39mimport\u001b[39;00m OptimizedModule\n",
      "\u001b[1;31mTypeError\u001b[0m: `model` must be a `LightningModule`, got `TemporalFusionTransformer`"
     ]
    }
   ],
   "source": [
    "model_type = 'load'\n",
    "model_name = 'load_test'\n",
    "i = 0\n",
    "train_ds,val_ds = TFT_pred.format_CityLearn_datasets([train_path,val_path], model_type=model_type, building_index=i)\n",
    "tft_model = TFT_pred.new_model(model_name,model_type,train_ds)\n",
    "TFT_pred.train_model(model_name,model_type,train_ds,val_ds)"
   ]
  },
  {
   "cell_type": "code",
   "execution_count": null,
   "metadata": {},
   "outputs": [],
   "source": [
    "# create and train load models\n",
    "model_type = 'load'\n",
    "for i,id in enumerate(UCam_ids):\n",
    "    model_name = f'{model_type}_{id}'\n",
    "    train_ds,val_ds = TFT_pred.format_CityLearn_datasets([train_path,val_path], model_type=model_type, building_index=i)\n",
    "    tft_model = TFT_pred.new_model(model_name,model_type,train_ds)\n",
    "    TFT_pred.train_model(model_name,model_type,train_ds,val_ds)"
   ]
  },
  {
   "cell_type": "code",
   "execution_count": null,
   "metadata": {},
   "outputs": [],
   "source": [
    "# create and train solar models\n",
    "model_type = 'solar'\n",
    "for i,id in enumerate(UCam_ids):\n",
    "    model_name = f'{model_type}_{id}'\n",
    "    train_ds,val_ds = TFT_pred.format_CityLearn_datasets([train_path,val_path], model_type=model_type, building_index=i)\n",
    "    tft_model = TFT_pred.new_model(model_name,model_type,train_ds)\n",
    "    TFT_pred.train_model(model_name,model_type,train_ds,val_ds)"
   ]
  },
  {
   "cell_type": "code",
   "execution_count": null,
   "metadata": {},
   "outputs": [],
   "source": [
    "# create and train pricing model\n",
    "model_type = 'pricing'\n",
    "model_name = 'price'\n",
    "train_ds,val_ds = TFT_pred.format_CityLearn_datasets([train_path,val_path], model_type=model_type, building_index=i)\n",
    "tft_model = TFT_pred.new_model(model_name,model_type,train_ds)\n",
    "TFT_pred.train_model(model_name,model_type,train_ds,val_ds)"
   ]
  },
  {
   "cell_type": "code",
   "execution_count": null,
   "metadata": {},
   "outputs": [],
   "source": [
    "# create and train carbon model\n",
    "model_type = 'carbon'\n",
    "model_name = 'carbon'\n",
    "train_ds,val_ds = TFT_pred.format_CityLearn_datasets([train_path,val_path], model_type=model_type, building_index=i)\n",
    "tft_model = TFT_pred.new_model(model_name,model_type,train_ds)\n",
    "TFT_pred.train_model(model_name,model_type,train_ds,val_ds)"
   ]
  },
  {
   "cell_type": "code",
   "execution_count": null,
   "metadata": {},
   "outputs": [],
   "source": [
    "from citylearn.citylearn import CityLearnEnv\n",
    "env = CityLearnEnv(os.path.join(val_path,'schema.json'))\n",
    "t = 7720"
   ]
  },
  {
   "cell_type": "code",
   "execution_count": null,
   "metadata": {},
   "outputs": [],
   "source": []
  }
 ],
 "metadata": {
  "kernelspec": {
   "display_name": "Annex37",
   "language": "python",
   "name": "python3"
  },
  "language_info": {
   "codemirror_mode": {
    "name": "ipython",
    "version": 3
   },
   "file_extension": ".py",
   "mimetype": "text/x-python",
   "name": "python",
   "nbconvert_exporter": "python",
   "pygments_lexer": "ipython3",
   "version": "3.8.16"
  },
  "orig_nbformat": 4
 },
 "nbformat": 4,
 "nbformat_minor": 2
}
