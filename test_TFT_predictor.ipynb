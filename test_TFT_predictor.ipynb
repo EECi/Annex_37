{
 "cells": [
  {
   "cell_type": "code",
   "execution_count": null,
   "metadata": {},
   "outputs": [],
   "source": [
    "# top-level requirements: pytorch-forecasting==0.10.3, citylearn==1.7, ipykernel, jupyter, tensorboard, plotly\n",
    "# install numba for improved speed\n",
    "# to use cuda support, run: pip3 install torch==1.13 --index-url https://download.pytorch.org/whl/cu117 - see https://pytorch.org/get-started/locally/"
   ]
  },
  {
   "cell_type": "code",
   "execution_count": null,
   "metadata": {},
   "outputs": [],
   "source": [
    "import os\n",
    "import json\n",
    "import numpy as np\n",
    "import pandas as pd\n",
    "from models.TFT.TFT_predictor import TFT_Predictor"
   ]
  },
  {
   "cell_type": "code",
   "execution_count": null,
   "metadata": {},
   "outputs": [],
   "source": [
    "train_path = os.path.join('data','example','train')\n",
    "val_path = os.path.join('data','example','validate')\n",
    "with open(os.path.join(train_path,'metadata_ext.json')) as json_file:\n",
    "    UCam_ids = json.load(json_file)[\"UCam_building_ids\"]"
   ]
  },
  {
   "attachments": {},
   "cell_type": "markdown",
   "metadata": {},
   "source": [
    "---"
   ]
  },
  {
   "cell_type": "code",
   "execution_count": null,
   "metadata": {},
   "outputs": [],
   "source": [
    "TFT_pred = TFT_Predictor(model_group_name='test',load=False)"
   ]
  },
  {
   "attachments": {},
   "cell_type": "markdown",
   "metadata": {},
   "source": [
    "---\n",
    "\n",
    "Test model creation and training"
   ]
  },
  {
   "cell_type": "code",
   "execution_count": null,
   "metadata": {},
   "outputs": [],
   "source": [
    "model_type = 'load'\n",
    "model_name = 'load_test'\n",
    "i = 0\n",
    "train_ds,val_ds = TFT_pred.format_CityLearn_datasets([train_path,val_path], model_type=model_type, building_index=i)\n",
    "tft_model = TFT_pred.new_model(model_name,model_type,train_ds)"
   ]
  },
  {
   "cell_type": "code",
   "execution_count": null,
   "metadata": {},
   "outputs": [],
   "source": [
    "TFT_pred.train_model(model_name,model_type,train_ds,val_ds)"
   ]
  },
  {
   "attachments": {},
   "cell_type": "markdown",
   "metadata": {},
   "source": [
    "---"
   ]
  },
  {
   "attachments": {},
   "cell_type": "markdown",
   "metadata": {},
   "source": [
    "Try loading the model group"
   ]
  },
  {
   "cell_type": "code",
   "execution_count": null,
   "metadata": {},
   "outputs": [],
   "source": [
    "TFT_pred = TFT_Predictor(model_group_name='test',model_names=UCam_ids)"
   ]
  },
  {
   "cell_type": "code",
   "execution_count": null,
   "metadata": {},
   "outputs": [],
   "source": [
    "print(TFT_pred.model_names)"
   ]
  },
  {
   "attachments": {},
   "cell_type": "markdown",
   "metadata": {},
   "source": [
    "---"
   ]
  },
  {
   "cell_type": "code",
   "execution_count": null,
   "metadata": {},
   "outputs": [],
   "source": [
    "# create and train load models\n",
    "model_type = 'load'\n",
    "for i,id in enumerate(UCam_ids):\n",
    "    model_name = f'{model_type}_{id}'\n",
    "    train_ds,val_ds = TFT_pred.format_CityLearn_datasets([train_path,val_path], model_type=model_type, building_index=i)\n",
    "    tft_model = TFT_pred.new_model(model_name,model_type,train_ds)\n",
    "    TFT_pred.train_model(model_name,model_type,train_ds,val_ds)"
   ]
  },
  {
   "cell_type": "code",
   "execution_count": null,
   "metadata": {},
   "outputs": [],
   "source": [
    "# create and train solar models\n",
    "model_type = 'solar'\n",
    "for i,id in enumerate(UCam_ids):\n",
    "    model_name = f'{model_type}_{id}'\n",
    "    train_ds,val_ds = TFT_pred.format_CityLearn_datasets([train_path,val_path], model_type=model_type, building_index=i)\n",
    "    tft_model = TFT_pred.new_model(model_name,model_type,train_ds)\n",
    "    TFT_pred.train_model(model_name,model_type,train_ds,val_ds)"
   ]
  },
  {
   "cell_type": "code",
   "execution_count": null,
   "metadata": {},
   "outputs": [],
   "source": [
    "# create and train pricing model\n",
    "model_type = 'pricing'\n",
    "model_name = 'pricing'\n",
    "train_ds,val_ds = TFT_pred.format_CityLearn_datasets([train_path,val_path], model_type=model_type)\n",
    "tft_model = TFT_pred.new_model(model_name,model_type,train_ds)\n",
    "TFT_pred.train_model(model_name,model_type,train_ds,val_ds)"
   ]
  },
  {
   "cell_type": "code",
   "execution_count": null,
   "metadata": {},
   "outputs": [],
   "source": [
    "# create and train carbon model\n",
    "model_type = 'carbon'\n",
    "model_name = 'carbon'\n",
    "train_ds,val_ds = TFT_pred.format_CityLearn_datasets([train_path,val_path], model_type=model_type)\n",
    "tft_model = TFT_pred.new_model(model_name,model_type,train_ds)\n",
    "TFT_pred.train_model(model_name,model_type,train_ds,val_ds)"
   ]
  },
  {
   "cell_type": "code",
   "execution_count": null,
   "metadata": {},
   "outputs": [],
   "source": []
  },
  {
   "attachments": {},
   "cell_type": "markdown",
   "metadata": {},
   "source": [
    "---\n",
    "\n",
    "Test prediction inference"
   ]
  },
  {
   "cell_type": "code",
   "execution_count": null,
   "metadata": {},
   "outputs": [],
   "source": [
    "from citylearn.citylearn import CityLearnEnv\n",
    "env = CityLearnEnv(os.path.join(val_path,'schema.json'))"
   ]
  },
  {
   "cell_type": "code",
   "execution_count": null,
   "metadata": {},
   "outputs": [],
   "source": [
    "env.reset()\n",
    "for t in range(1000): env.step(np.zeros((len(env.buildings),1)))"
   ]
  },
  {
   "cell_type": "code",
   "execution_count": null,
   "metadata": {},
   "outputs": [],
   "source": [
    "# construct base df with time & past weather info\n",
    "months = env.buildings[0].energy_simulation.month[env.time_step-TFT_pred.L+1:env.time_step+TFT_pred.T+1]\n",
    "hours = env.buildings[0].energy_simulation.hour[env.time_step-TFT_pred.L+1:env.time_step+TFT_pred.T+1]\n",
    "day_types = env.buildings[0].energy_simulation.day_type[env.time_step-TFT_pred.L+1:env.time_step+TFT_pred.T+1]\n",
    "day_save_statuses = env.buildings[0].energy_simulation.daylight_savings_status[env.time_step-TFT_pred.L+1:env.time_step+TFT_pred.T+1]\n",
    "past_temps = env.buildings[0].weather.outdoor_dry_bulb_temperature[env.time_step-TFT_pred.L+1:env.time_step+1]\n",
    "past_dif_irads = env.buildings[0].weather.diffuse_solar_irradiance[env.time_step-TFT_pred.L+1:env.time_step+1]\n",
    "past_dir_irads = env.buildings[0].weather.direct_solar_irradiance[env.time_step-TFT_pred.L+1:env.time_step+1]\n",
    "\n",
    "base_df = pd.DataFrame({\n",
    "    'Month': months,\n",
    "    'Hour': hours,\n",
    "    'Day Type': day_types,\n",
    "    'Daylight Savings Status': day_save_statuses,\n",
    "    TFT_pred.temp_col_name: np.append(past_temps,np.zeros(TFT_pred.T)),\n",
    "    TFT_pred.dif_irad_col_name: np.append(past_dif_irads,np.zeros(TFT_pred.T)),\n",
    "    TFT_pred.dir_irad_col_name: np.append(past_dir_irads,np.zeros(TFT_pred.T))\n",
    "})\n",
    "base_df = TFT_pred.reformat_df(base_df,'pred',TFT_pred.time_varying_known_categoricals)"
   ]
  },
  {
   "cell_type": "code",
   "execution_count": null,
   "metadata": {},
   "outputs": [],
   "source": [
    "# perform load forecasting\n",
    "predicted_loads = []\n",
    "for j,model in enumerate(TFT_pred.models['load'].values()):\n",
    "\n",
    "    # construct data df \n",
    "    data_df = base_df.copy()\n",
    "    data_df[TFT_pred.load_col_name] = np.append(env.buildings[j].energy_simulation.non_shiftable_load[env.time_step-TFT_pred.L+1:env.time_step+1],np.zeros(TFT_pred.T))\n",
    "\n",
    "    # perform prediction\n",
    "    load_prediction = np.array(model.predict(data_df, mode='prediction')).reshape(TFT_pred.T)[:24]\n",
    "    # TODO: can I simply take in a dataframe for prediction or do I need to convert it to a dataloader or TimeSeriesDataSet?\n",
    "\n",
    "    # save prediction in structure\n",
    "    predicted_loads.append(load_prediction)"
   ]
  },
  {
   "cell_type": "code",
   "execution_count": null,
   "metadata": {},
   "outputs": [],
   "source": [
    "print(np.array(predicted_loads).shape,np.array(predicted_loads))"
   ]
  },
  {
   "cell_type": "code",
   "execution_count": null,
   "metadata": {},
   "outputs": [],
   "source": []
  },
  {
   "cell_type": "code",
   "execution_count": null,
   "metadata": {},
   "outputs": [],
   "source": [
    "import warnings"
   ]
  },
  {
   "cell_type": "code",
   "execution_count": null,
   "metadata": {},
   "outputs": [],
   "source": [
    "TFT_pred.initialise_forecasting(tau=48)\n",
    "obs = env.reset()\n",
    "\n",
    "with warnings.catch_warnings():\n",
    "    warnings.filterwarnings(action='ignore',module=r'pytorch_forecasting')\n",
    "    for t in range(76):\n",
    "        forecasts = TFT_pred.compute_forecast(obs, env)\n",
    "        if forecasts is not None: print(forecasts)\n",
    "        obs, _, done, _ = env.step(np.zeros((len(env.buildings),1)))"
   ]
  },
  {
   "cell_type": "code",
   "execution_count": null,
   "metadata": {},
   "outputs": [],
   "source": [
    "print(TFT_pred.model_names)"
   ]
  }
 ],
 "metadata": {
  "kernelspec": {
   "display_name": "Annex37",
   "language": "python",
   "name": "python3"
  },
  "language_info": {
   "codemirror_mode": {
    "name": "ipython",
    "version": 3
   },
   "file_extension": ".py",
   "mimetype": "text/x-python",
   "name": "python",
   "nbconvert_exporter": "python",
   "pygments_lexer": "ipython3",
   "version": "3.8.16"
  },
  "orig_nbformat": 4
 },
 "nbformat": 4,
 "nbformat_minor": 2
}
