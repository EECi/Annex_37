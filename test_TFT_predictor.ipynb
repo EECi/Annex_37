{
 "cells": [
  {
   "cell_type": "code",
   "execution_count": 1,
   "metadata": {},
   "outputs": [],
   "source": [
    "import os\n",
    "import json\n",
    "from models.TFT.TFT_predictor import TFT_Predictor"
   ]
  },
  {
   "cell_type": "code",
   "execution_count": 2,
   "metadata": {},
   "outputs": [
    {
     "name": "stderr",
     "output_type": "stream",
     "text": [
      "/Users/max/Documents/PhD/Research/3 - Annex 37 CityLearn project/Annex_37/models/TFT/TFT_predictor.py:104: UserWarning: Warning: A log directory for this model group name (test) already exists but you are not loading it.\n",
      "  warnings.warn(f\"Warning: A log directory for this model group name ({model_group_name}) already exists but you are not loading it.\")\n",
      "/Users/max/Documents/PhD/Research/3 - Annex 37 CityLearn project/Annex_37/models/TFT/TFT_predictor.py:108: UserWarning: Warning: Model group metadata overwritten.\n",
      "  if os.path.exists(group_mparams_path): warnings.warn(\"Warning: Model group metadata overwritten.\")\n",
      "Global seed set to 42\n"
     ]
    }
   ],
   "source": [
    "TFT_pred = TFT_Predictor(model_group_name='test',load=False)"
   ]
  },
  {
   "cell_type": "code",
   "execution_count": 3,
   "metadata": {},
   "outputs": [],
   "source": [
    "train_path = os.path.join('data','example','train')\n",
    "val_path = os.path.join('data','example','validate')\n",
    "with open(os.path.join(train_path,'metadata_ext.json')) as json_file:\n",
    "    UCam_ids = json.load(json_file)[\"UCam_building_ids\"]"
   ]
  },
  {
   "cell_type": "code",
   "execution_count": null,
   "metadata": {},
   "outputs": [],
   "source": [
    "# create and train load models\n",
    "model_type = 'load'\n",
    "for i,id in enumerate(UCam_ids):\n",
    "    model_name = f'{model_type}_{id}'\n",
    "    train_ds,val_ds = TFT_pred.format_CityLearn_datasets([train_path,val_path], model_type=model_type, building_index=i)\n",
    "    tft_model = TFT_pred.new_model(model_name,model_type,train_ds)\n",
    "    TFT_pred.train(model_name,model_type,train_ds,val_ds)"
   ]
  },
  {
   "cell_type": "code",
   "execution_count": null,
   "metadata": {},
   "outputs": [],
   "source": [
    "# create and train solar models\n",
    "model_type = 'solar'\n",
    "for i,id in enumerate(UCam_ids):\n",
    "    model_name = f'{model_type}_{id}'\n",
    "    train_ds,val_ds = TFT_pred.format_CityLearn_datasets([train_path,val_path], model_type=model_type, building_index=i)\n",
    "    tft_model = TFT_pred.new_model(model_name,model_type,train_ds)\n",
    "    TFT_pred.train(model_name,model_type,train_ds,val_ds)"
   ]
  },
  {
   "cell_type": "code",
   "execution_count": null,
   "metadata": {},
   "outputs": [],
   "source": [
    "# create and train pricing model\n",
    "model_type = 'pricing'\n",
    "model_name = 'price'\n",
    "train_ds,val_ds = TFT_pred.format_CityLearn_datasets([train_path,val_path], model_type=model_type, building_index=i)\n",
    "tft_model = TFT_pred.new_model(model_name,model_type,train_ds)\n",
    "TFT_pred.train(model_name,model_type,train_ds,val_ds)"
   ]
  },
  {
   "cell_type": "code",
   "execution_count": null,
   "metadata": {},
   "outputs": [],
   "source": [
    "# create and train carbon model\n",
    "model_type = 'carbon'\n",
    "model_name = 'carbon'\n",
    "train_ds,val_ds = TFT_pred.format_CityLearn_datasets([train_path,val_path], model_type=model_type, building_index=i)\n",
    "tft_model = TFT_pred.new_model(model_name,model_type,train_ds)\n",
    "TFT_pred.train(model_name,model_type,train_ds,val_ds)"
   ]
  },
  {
   "cell_type": "code",
   "execution_count": null,
   "metadata": {},
   "outputs": [],
   "source": [
    "from citylearn.citylearn import CityLearnEnv\n",
    "env = CityLearnEnv(os.path.join(val_path,'schema.json'))\n",
    "t = 7720"
   ]
  },
  {
   "cell_type": "code",
   "execution_count": null,
   "metadata": {},
   "outputs": [],
   "source": []
  }
 ],
 "metadata": {
  "kernelspec": {
   "display_name": "Annex37",
   "language": "python",
   "name": "python3"
  },
  "language_info": {
   "codemirror_mode": {
    "name": "ipython",
    "version": 3
   },
   "file_extension": ".py",
   "mimetype": "text/x-python",
   "name": "python",
   "nbconvert_exporter": "python",
   "pygments_lexer": "ipython3",
   "version": "3.8.16"
  },
  "orig_nbformat": 4
 },
 "nbformat": 4,
 "nbformat_minor": 2
}
